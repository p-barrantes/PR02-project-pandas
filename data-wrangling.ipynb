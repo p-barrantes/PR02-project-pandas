{
 "cells": [
  {
   "cell_type": "markdown",
   "metadata": {
    "slideshow": {
     "slide_type": "slide"
    }
   },
   "source": [
    "# Shark Attacks\n",
    "### Data Cleaning and Manipulation with Pandas"
   ]
  },
  {
   "cell_type": "markdown",
   "metadata": {
    "slideshow": {
     "slide_type": "slide"
    }
   },
   "source": [
    "## Libraries"
   ]
  },
  {
   "cell_type": "code",
   "execution_count": 1,
   "metadata": {
    "slideshow": {
     "slide_type": "fragment"
    }
   },
   "outputs": [],
   "source": [
    "import re\n",
    "import pandas as pd\n",
    "import datetime as dt\n",
    "import matplotlib.pyplot as plt"
   ]
  },
  {
   "cell_type": "markdown",
   "metadata": {
    "slideshow": {
     "slide_type": "slide"
    }
   },
   "source": [
    "## Code"
   ]
  },
  {
   "cell_type": "code",
   "execution_count": 2,
   "metadata": {
    "slideshow": {
     "slide_type": "skip"
    }
   },
   "outputs": [],
   "source": [
    "# Eliminar límite de display columns\n",
    "pd.set_option('display.max_columns', None)"
   ]
  },
  {
   "cell_type": "markdown",
   "metadata": {
    "slideshow": {
     "slide_type": "subslide"
    }
   },
   "source": [
    "### Paso 1 - Carga\n",
    "Para empezar, cargamos el documento y hacemos un primer análisis"
   ]
  },
  {
   "cell_type": "code",
   "execution_count": 3,
   "metadata": {
    "slideshow": {
     "slide_type": "fragment"
    }
   },
   "outputs": [],
   "source": [
    "attacks = pd.read_csv('./attacks.csv', encoding='latin-1', parse_dates=True)"
   ]
  },
  {
   "cell_type": "code",
   "execution_count": 4,
   "metadata": {
    "slideshow": {
     "slide_type": "fragment"
    }
   },
   "outputs": [
    {
     "data": {
      "text/html": [
       "<div>\n",
       "<style scoped>\n",
       "    .dataframe tbody tr th:only-of-type {\n",
       "        vertical-align: middle;\n",
       "    }\n",
       "\n",
       "    .dataframe tbody tr th {\n",
       "        vertical-align: top;\n",
       "    }\n",
       "\n",
       "    .dataframe thead th {\n",
       "        text-align: right;\n",
       "    }\n",
       "</style>\n",
       "<table border=\"1\" class=\"dataframe\">\n",
       "  <thead>\n",
       "    <tr style=\"text-align: right;\">\n",
       "      <th></th>\n",
       "      <th>Case Number</th>\n",
       "      <th>Date</th>\n",
       "      <th>Year</th>\n",
       "      <th>Type</th>\n",
       "      <th>Country</th>\n",
       "      <th>Area</th>\n",
       "      <th>Location</th>\n",
       "      <th>Activity</th>\n",
       "      <th>Name</th>\n",
       "      <th>Sex</th>\n",
       "      <th>Age</th>\n",
       "      <th>Injury</th>\n",
       "      <th>Fatal (Y/N)</th>\n",
       "      <th>Time</th>\n",
       "      <th>Species</th>\n",
       "      <th>Investigator or Source</th>\n",
       "      <th>pdf</th>\n",
       "      <th>href formula</th>\n",
       "      <th>href</th>\n",
       "      <th>Case Number.1</th>\n",
       "      <th>Case Number.2</th>\n",
       "      <th>original order</th>\n",
       "      <th>Unnamed: 22</th>\n",
       "      <th>Unnamed: 23</th>\n",
       "    </tr>\n",
       "  </thead>\n",
       "  <tbody>\n",
       "    <tr>\n",
       "      <th>0</th>\n",
       "      <td>2018.06.25</td>\n",
       "      <td>25-Jun-2018</td>\n",
       "      <td>2018.0</td>\n",
       "      <td>Boating</td>\n",
       "      <td>USA</td>\n",
       "      <td>California</td>\n",
       "      <td>Oceanside, San Diego County</td>\n",
       "      <td>Paddling</td>\n",
       "      <td>Julie Wolfe</td>\n",
       "      <td>F</td>\n",
       "      <td>57</td>\n",
       "      <td>No injury to occupant, outrigger canoe and pad...</td>\n",
       "      <td>N</td>\n",
       "      <td>18h00</td>\n",
       "      <td>White shark</td>\n",
       "      <td>R. Collier, GSAF</td>\n",
       "      <td>2018.06.25-Wolfe.pdf</td>\n",
       "      <td>http://sharkattackfile.net/spreadsheets/pdf_di...</td>\n",
       "      <td>http://sharkattackfile.net/spreadsheets/pdf_di...</td>\n",
       "      <td>2018.06.25</td>\n",
       "      <td>2018.06.25</td>\n",
       "      <td>6303.0</td>\n",
       "      <td>NaN</td>\n",
       "      <td>NaN</td>\n",
       "    </tr>\n",
       "    <tr>\n",
       "      <th>1</th>\n",
       "      <td>2018.06.18</td>\n",
       "      <td>18-Jun-2018</td>\n",
       "      <td>2018.0</td>\n",
       "      <td>Unprovoked</td>\n",
       "      <td>USA</td>\n",
       "      <td>Georgia</td>\n",
       "      <td>St. Simon Island, Glynn County</td>\n",
       "      <td>Standing</td>\n",
       "      <td>Adyson McNeely</td>\n",
       "      <td>F</td>\n",
       "      <td>11</td>\n",
       "      <td>Minor injury to left thigh</td>\n",
       "      <td>N</td>\n",
       "      <td>14h00  -15h00</td>\n",
       "      <td>NaN</td>\n",
       "      <td>K.McMurray, TrackingSharks.com</td>\n",
       "      <td>2018.06.18-McNeely.pdf</td>\n",
       "      <td>http://sharkattackfile.net/spreadsheets/pdf_di...</td>\n",
       "      <td>http://sharkattackfile.net/spreadsheets/pdf_di...</td>\n",
       "      <td>2018.06.18</td>\n",
       "      <td>2018.06.18</td>\n",
       "      <td>6302.0</td>\n",
       "      <td>NaN</td>\n",
       "      <td>NaN</td>\n",
       "    </tr>\n",
       "    <tr>\n",
       "      <th>2</th>\n",
       "      <td>2018.06.09</td>\n",
       "      <td>09-Jun-2018</td>\n",
       "      <td>2018.0</td>\n",
       "      <td>Invalid</td>\n",
       "      <td>USA</td>\n",
       "      <td>Hawaii</td>\n",
       "      <td>Habush, Oahu</td>\n",
       "      <td>Surfing</td>\n",
       "      <td>John Denges</td>\n",
       "      <td>M</td>\n",
       "      <td>48</td>\n",
       "      <td>Injury to left lower leg from surfboard skeg</td>\n",
       "      <td>N</td>\n",
       "      <td>07h45</td>\n",
       "      <td>NaN</td>\n",
       "      <td>K.McMurray, TrackingSharks.com</td>\n",
       "      <td>2018.06.09-Denges.pdf</td>\n",
       "      <td>http://sharkattackfile.net/spreadsheets/pdf_di...</td>\n",
       "      <td>http://sharkattackfile.net/spreadsheets/pdf_di...</td>\n",
       "      <td>2018.06.09</td>\n",
       "      <td>2018.06.09</td>\n",
       "      <td>6301.0</td>\n",
       "      <td>NaN</td>\n",
       "      <td>NaN</td>\n",
       "    </tr>\n",
       "    <tr>\n",
       "      <th>3</th>\n",
       "      <td>2018.06.08</td>\n",
       "      <td>08-Jun-2018</td>\n",
       "      <td>2018.0</td>\n",
       "      <td>Unprovoked</td>\n",
       "      <td>AUSTRALIA</td>\n",
       "      <td>New South Wales</td>\n",
       "      <td>Arrawarra Headland</td>\n",
       "      <td>Surfing</td>\n",
       "      <td>male</td>\n",
       "      <td>M</td>\n",
       "      <td>NaN</td>\n",
       "      <td>Minor injury to lower leg</td>\n",
       "      <td>N</td>\n",
       "      <td>NaN</td>\n",
       "      <td>2 m shark</td>\n",
       "      <td>B. Myatt, GSAF</td>\n",
       "      <td>2018.06.08-Arrawarra.pdf</td>\n",
       "      <td>http://sharkattackfile.net/spreadsheets/pdf_di...</td>\n",
       "      <td>http://sharkattackfile.net/spreadsheets/pdf_di...</td>\n",
       "      <td>2018.06.08</td>\n",
       "      <td>2018.06.08</td>\n",
       "      <td>6300.0</td>\n",
       "      <td>NaN</td>\n",
       "      <td>NaN</td>\n",
       "    </tr>\n",
       "    <tr>\n",
       "      <th>4</th>\n",
       "      <td>2018.06.04</td>\n",
       "      <td>04-Jun-2018</td>\n",
       "      <td>2018.0</td>\n",
       "      <td>Provoked</td>\n",
       "      <td>MEXICO</td>\n",
       "      <td>Colima</td>\n",
       "      <td>La Ticla</td>\n",
       "      <td>Free diving</td>\n",
       "      <td>Gustavo Ramos</td>\n",
       "      <td>M</td>\n",
       "      <td>NaN</td>\n",
       "      <td>Lacerations to leg &amp; hand shark PROVOKED INCIDENT</td>\n",
       "      <td>N</td>\n",
       "      <td>NaN</td>\n",
       "      <td>Tiger shark, 3m</td>\n",
       "      <td>A .Kipper</td>\n",
       "      <td>2018.06.04-Ramos.pdf</td>\n",
       "      <td>http://sharkattackfile.net/spreadsheets/pdf_di...</td>\n",
       "      <td>http://sharkattackfile.net/spreadsheets/pdf_di...</td>\n",
       "      <td>2018.06.04</td>\n",
       "      <td>2018.06.04</td>\n",
       "      <td>6299.0</td>\n",
       "      <td>NaN</td>\n",
       "      <td>NaN</td>\n",
       "    </tr>\n",
       "  </tbody>\n",
       "</table>\n",
       "</div>"
      ],
      "text/plain": [
       "  Case Number         Date    Year        Type    Country             Area  \\\n",
       "0  2018.06.25  25-Jun-2018  2018.0     Boating        USA       California   \n",
       "1  2018.06.18  18-Jun-2018  2018.0  Unprovoked        USA          Georgia   \n",
       "2  2018.06.09  09-Jun-2018  2018.0     Invalid        USA           Hawaii   \n",
       "3  2018.06.08  08-Jun-2018  2018.0  Unprovoked  AUSTRALIA  New South Wales   \n",
       "4  2018.06.04  04-Jun-2018  2018.0    Provoked     MEXICO           Colima   \n",
       "\n",
       "                         Location     Activity             Name Sex   Age  \\\n",
       "0     Oceanside, San Diego County     Paddling      Julie Wolfe    F   57   \n",
       "1  St. Simon Island, Glynn County     Standing  Adyson McNeely     F   11   \n",
       "2                    Habush, Oahu      Surfing      John Denges    M   48   \n",
       "3              Arrawarra Headland      Surfing             male    M  NaN   \n",
       "4                        La Ticla  Free diving   Gustavo Ramos     M  NaN   \n",
       "\n",
       "                                              Injury Fatal (Y/N)  \\\n",
       "0  No injury to occupant, outrigger canoe and pad...           N   \n",
       "1                         Minor injury to left thigh           N   \n",
       "2       Injury to left lower leg from surfboard skeg           N   \n",
       "3                          Minor injury to lower leg           N   \n",
       "4  Lacerations to leg & hand shark PROVOKED INCIDENT           N   \n",
       "\n",
       "            Time         Species           Investigator or Source  \\\n",
       "0          18h00      White shark                R. Collier, GSAF   \n",
       "1  14h00  -15h00              NaN  K.McMurray, TrackingSharks.com   \n",
       "2          07h45              NaN  K.McMurray, TrackingSharks.com   \n",
       "3            NaN        2 m shark                  B. Myatt, GSAF   \n",
       "4            NaN  Tiger shark, 3m                       A .Kipper   \n",
       "\n",
       "                        pdf  \\\n",
       "0      2018.06.25-Wolfe.pdf   \n",
       "1    2018.06.18-McNeely.pdf   \n",
       "2     2018.06.09-Denges.pdf   \n",
       "3  2018.06.08-Arrawarra.pdf   \n",
       "4      2018.06.04-Ramos.pdf   \n",
       "\n",
       "                                        href formula  \\\n",
       "0  http://sharkattackfile.net/spreadsheets/pdf_di...   \n",
       "1  http://sharkattackfile.net/spreadsheets/pdf_di...   \n",
       "2  http://sharkattackfile.net/spreadsheets/pdf_di...   \n",
       "3  http://sharkattackfile.net/spreadsheets/pdf_di...   \n",
       "4  http://sharkattackfile.net/spreadsheets/pdf_di...   \n",
       "\n",
       "                                                href Case Number.1  \\\n",
       "0  http://sharkattackfile.net/spreadsheets/pdf_di...    2018.06.25   \n",
       "1  http://sharkattackfile.net/spreadsheets/pdf_di...    2018.06.18   \n",
       "2  http://sharkattackfile.net/spreadsheets/pdf_di...    2018.06.09   \n",
       "3  http://sharkattackfile.net/spreadsheets/pdf_di...    2018.06.08   \n",
       "4  http://sharkattackfile.net/spreadsheets/pdf_di...    2018.06.04   \n",
       "\n",
       "  Case Number.2  original order Unnamed: 22 Unnamed: 23  \n",
       "0    2018.06.25          6303.0         NaN         NaN  \n",
       "1    2018.06.18          6302.0         NaN         NaN  \n",
       "2    2018.06.09          6301.0         NaN         NaN  \n",
       "3    2018.06.08          6300.0         NaN         NaN  \n",
       "4    2018.06.04          6299.0         NaN         NaN  "
      ]
     },
     "execution_count": 4,
     "metadata": {},
     "output_type": "execute_result"
    }
   ],
   "source": [
    "attacks.head()"
   ]
  },
  {
   "cell_type": "code",
   "execution_count": 5,
   "metadata": {
    "slideshow": {
     "slide_type": "subslide"
    }
   },
   "outputs": [
    {
     "name": "stdout",
     "output_type": "stream",
     "text": [
      "<class 'pandas.core.frame.DataFrame'>\n",
      "RangeIndex: 25723 entries, 0 to 25722\n",
      "Data columns (total 24 columns):\n",
      " #   Column                  Non-Null Count  Dtype  \n",
      "---  ------                  --------------  -----  \n",
      " 0   Case Number             8702 non-null   object \n",
      " 1   Date                    6302 non-null   object \n",
      " 2   Year                    6300 non-null   float64\n",
      " 3   Type                    6298 non-null   object \n",
      " 4   Country                 6252 non-null   object \n",
      " 5   Area                    5847 non-null   object \n",
      " 6   Location                5762 non-null   object \n",
      " 7   Activity                5758 non-null   object \n",
      " 8   Name                    6092 non-null   object \n",
      " 9   Sex                     5737 non-null   object \n",
      " 10  Age                     3471 non-null   object \n",
      " 11  Injury                  6274 non-null   object \n",
      " 12  Fatal (Y/N)             5763 non-null   object \n",
      " 13  Time                    2948 non-null   object \n",
      " 14  Species                 3464 non-null   object \n",
      " 15  Investigator or Source  6285 non-null   object \n",
      " 16  pdf                     6302 non-null   object \n",
      " 17  href formula            6301 non-null   object \n",
      " 18  href                    6302 non-null   object \n",
      " 19  Case Number.1           6302 non-null   object \n",
      " 20  Case Number.2           6302 non-null   object \n",
      " 21  original order          6309 non-null   float64\n",
      " 22  Unnamed: 22             1 non-null      object \n",
      " 23  Unnamed: 23             2 non-null      object \n",
      "dtypes: float64(2), object(22)\n",
      "memory usage: 4.7+ MB\n"
     ]
    }
   ],
   "source": [
    "attacks.info()"
   ]
  },
  {
   "cell_type": "code",
   "execution_count": 6,
   "metadata": {
    "slideshow": {
     "slide_type": "skip"
    }
   },
   "outputs": [
    {
     "data": {
      "text/plain": [
       "(25723, 24)"
      ]
     },
     "execution_count": 6,
     "metadata": {},
     "output_type": "execute_result"
    }
   ],
   "source": [
    "attacks.shape"
   ]
  },
  {
   "cell_type": "markdown",
   "metadata": {
    "slideshow": {
     "slide_type": "subslide"
    }
   },
   "source": [
    "### Paso 2 - Primera limpieza\n",
    "Se eliminan:\n",
    "- Espacios sobrantes de los títulos de las columnas\n",
    "- Filas duplicadas\n",
    "- Columnas con todo valores nulos\n",
    "- Filas con 2 o más columnas las cuales tengan todo valores nulos"
   ]
  },
  {
   "cell_type": "code",
   "execution_count": 7,
   "metadata": {
    "slideshow": {
     "slide_type": "fragment"
    }
   },
   "outputs": [],
   "source": [
    "attacks.rename(columns=lambda x: re.sub('^\\s*|\\s*$','',x), inplace=True)\n",
    "attacks.drop_duplicates(inplace=True)\n",
    "attacks.dropna(axis=1, how='all', inplace=True)\n",
    "attacks.dropna(axis=0, how='all', thresh=2, inplace=True)"
   ]
  },
  {
   "cell_type": "code",
   "execution_count": 8,
   "metadata": {
    "slideshow": {
     "slide_type": "skip"
    }
   },
   "outputs": [
    {
     "data": {
      "text/plain": [
       "Case Number                  1\n",
       "Date                         7\n",
       "Year                         9\n",
       "Type                        11\n",
       "Country                     57\n",
       "Area                       462\n",
       "Location                   547\n",
       "Activity                   551\n",
       "Name                       217\n",
       "Sex                        572\n",
       "Age                       2838\n",
       "Injury                      35\n",
       "Fatal (Y/N)                546\n",
       "Time                      3361\n",
       "Species                   2845\n",
       "Investigator or Source      24\n",
       "pdf                          7\n",
       "href formula                 8\n",
       "href                         7\n",
       "Case Number.1                7\n",
       "Case Number.2                7\n",
       "original order               0\n",
       "Unnamed: 22               6308\n",
       "Unnamed: 23               6307\n",
       "dtype: int64"
      ]
     },
     "execution_count": 8,
     "metadata": {},
     "output_type": "execute_result"
    }
   ],
   "source": [
    "attacks.isna().sum()"
   ]
  },
  {
   "cell_type": "markdown",
   "metadata": {
    "slideshow": {
     "slide_type": "slide"
    }
   },
   "source": [
    "### Paso 3 - Análisis por columnas"
   ]
  },
  {
   "cell_type": "markdown",
   "metadata": {
    "slideshow": {
     "slide_type": "subslide"
    }
   },
   "source": [
    "#### 'Year'\n",
    "Los datos de años anteriores a 1700 pueden no ser del todo fiables, por lo que decido eliminarlos del DataFrame. Para ello:\n",
    "- Relleno los valores nulos con 0 y los convierto a `int`\n",
    "- Elimino los años anteriores a 1700"
   ]
  },
  {
   "cell_type": "code",
   "execution_count": 9,
   "metadata": {
    "slideshow": {
     "slide_type": "fragment"
    }
   },
   "outputs": [],
   "source": [
    "attacks['Year'] = attacks['Year'].fillna(0).astype('int')\n",
    "attacks = attacks[attacks['Year'] >= 1700]"
   ]
  },
  {
   "cell_type": "markdown",
   "metadata": {
    "slideshow": {
     "slide_type": "subslide"
    }
   },
   "source": [
    "#### 'Case Number'\n",
    "\n",
    "Esta columna contiene mayoritariamente fechas, pero con formato erróneo y algunas incorrectas.\n",
    "\n",
    "Asumo que todas las columnas relativas a fechas han extraído las fechas de la columna `pdf`, por lo que esta debería contener la fecha correcta."
   ]
  },
  {
   "cell_type": "code",
   "execution_count": 10,
   "metadata": {
    "slideshow": {
     "slide_type": "fragment"
    }
   },
   "outputs": [],
   "source": [
    "# Extraer la fecha del fichero pdf\n",
    "\n",
    "pdf_dates = re.compile('\\d{4}\\W\\d{2}\\W\\d{2}')"
   ]
  },
  {
   "cell_type": "code",
   "execution_count": 11,
   "metadata": {
    "slideshow": {
     "slide_type": "fragment"
    }
   },
   "outputs": [],
   "source": [
    "# Buscar fechas con ese formato en la columna de 'pdf'\n",
    "\n",
    "pdf_dates_clean = attacks['pdf'].str.findall(pdf_dates).str.join('')"
   ]
  },
  {
   "cell_type": "code",
   "execution_count": 12,
   "metadata": {
    "slideshow": {
     "slide_type": "fragment"
    }
   },
   "outputs": [],
   "source": [
    "# Reemplazar fechas correctas en la columna de 'Case Number'\n",
    "\n",
    "attacks['Case Number'] = pdf_dates_clean"
   ]
  },
  {
   "cell_type": "code",
   "execution_count": 13,
   "metadata": {
    "slideshow": {
     "slide_type": "skip"
    }
   },
   "outputs": [
    {
     "data": {
      "text/html": [
       "<div>\n",
       "<style scoped>\n",
       "    .dataframe tbody tr th:only-of-type {\n",
       "        vertical-align: middle;\n",
       "    }\n",
       "\n",
       "    .dataframe tbody tr th {\n",
       "        vertical-align: top;\n",
       "    }\n",
       "\n",
       "    .dataframe thead th {\n",
       "        text-align: right;\n",
       "    }\n",
       "</style>\n",
       "<table border=\"1\" class=\"dataframe\">\n",
       "  <thead>\n",
       "    <tr style=\"text-align: right;\">\n",
       "      <th></th>\n",
       "      <th>Case Number</th>\n",
       "      <th>Date</th>\n",
       "      <th>Year</th>\n",
       "      <th>pdf</th>\n",
       "    </tr>\n",
       "  </thead>\n",
       "  <tbody>\n",
       "    <tr>\n",
       "      <th>0</th>\n",
       "      <td>2018.06.25</td>\n",
       "      <td>25-Jun-2018</td>\n",
       "      <td>2018</td>\n",
       "      <td>2018.06.25-Wolfe.pdf</td>\n",
       "    </tr>\n",
       "    <tr>\n",
       "      <th>1</th>\n",
       "      <td>2018.06.18</td>\n",
       "      <td>18-Jun-2018</td>\n",
       "      <td>2018</td>\n",
       "      <td>2018.06.18-McNeely.pdf</td>\n",
       "    </tr>\n",
       "    <tr>\n",
       "      <th>2</th>\n",
       "      <td>2018.06.09</td>\n",
       "      <td>09-Jun-2018</td>\n",
       "      <td>2018</td>\n",
       "      <td>2018.06.09-Denges.pdf</td>\n",
       "    </tr>\n",
       "    <tr>\n",
       "      <th>3</th>\n",
       "      <td>2018.06.08</td>\n",
       "      <td>08-Jun-2018</td>\n",
       "      <td>2018</td>\n",
       "      <td>2018.06.08-Arrawarra.pdf</td>\n",
       "    </tr>\n",
       "    <tr>\n",
       "      <th>4</th>\n",
       "      <td>2018.06.04</td>\n",
       "      <td>04-Jun-2018</td>\n",
       "      <td>2018</td>\n",
       "      <td>2018.06.04-Ramos.pdf</td>\n",
       "    </tr>\n",
       "  </tbody>\n",
       "</table>\n",
       "</div>"
      ],
      "text/plain": [
       "  Case Number         Date  Year                       pdf\n",
       "0  2018.06.25  25-Jun-2018  2018      2018.06.25-Wolfe.pdf\n",
       "1  2018.06.18  18-Jun-2018  2018    2018.06.18-McNeely.pdf\n",
       "2  2018.06.09  09-Jun-2018  2018     2018.06.09-Denges.pdf\n",
       "3  2018.06.08  08-Jun-2018  2018  2018.06.08-Arrawarra.pdf\n",
       "4  2018.06.04  04-Jun-2018  2018      2018.06.04-Ramos.pdf"
      ]
     },
     "execution_count": 13,
     "metadata": {},
     "output_type": "execute_result"
    }
   ],
   "source": [
    "# Crear subset con las columnas de fechas\n",
    "\n",
    "dates = attacks[['Case Number', 'Date', 'Year', 'pdf']]\n",
    "dates.head()"
   ]
  },
  {
   "cell_type": "code",
   "execution_count": 14,
   "metadata": {
    "slideshow": {
     "slide_type": "fragment"
    }
   },
   "outputs": [],
   "source": [
    "# Reemplazar los .00 por .01\n",
    "\n",
    "attacks['Case Number'].replace(to_replace='(\\.+[0]{2})', value='.01', regex=True, inplace=True)"
   ]
  },
  {
   "cell_type": "code",
   "execution_count": 15,
   "metadata": {
    "slideshow": {
     "slide_type": "subslide"
    }
   },
   "outputs": [],
   "source": [
    "# Convertir 'Case Number' a tipo fecha\n",
    "\n",
    "attacks['Case Number'] = pd.to_datetime(attacks['Case Number'], errors='coerce').dt.strftime('%Y-%m-%d')"
   ]
  },
  {
   "cell_type": "code",
   "execution_count": 16,
   "metadata": {
    "slideshow": {
     "slide_type": "skip"
    }
   },
   "outputs": [
    {
     "data": {
      "text/html": [
       "<div>\n",
       "<style scoped>\n",
       "    .dataframe tbody tr th:only-of-type {\n",
       "        vertical-align: middle;\n",
       "    }\n",
       "\n",
       "    .dataframe tbody tr th {\n",
       "        vertical-align: top;\n",
       "    }\n",
       "\n",
       "    .dataframe thead th {\n",
       "        text-align: right;\n",
       "    }\n",
       "</style>\n",
       "<table border=\"1\" class=\"dataframe\">\n",
       "  <thead>\n",
       "    <tr style=\"text-align: right;\">\n",
       "      <th></th>\n",
       "      <th>Case Number</th>\n",
       "      <th>Date</th>\n",
       "      <th>Year</th>\n",
       "      <th>Type</th>\n",
       "      <th>Country</th>\n",
       "      <th>Area</th>\n",
       "      <th>Location</th>\n",
       "      <th>Activity</th>\n",
       "      <th>Name</th>\n",
       "      <th>Sex</th>\n",
       "      <th>Age</th>\n",
       "      <th>Injury</th>\n",
       "      <th>Fatal (Y/N)</th>\n",
       "      <th>Time</th>\n",
       "      <th>Species</th>\n",
       "      <th>Investigator or Source</th>\n",
       "      <th>pdf</th>\n",
       "      <th>href formula</th>\n",
       "      <th>href</th>\n",
       "      <th>Case Number.1</th>\n",
       "      <th>Case Number.2</th>\n",
       "      <th>original order</th>\n",
       "      <th>Unnamed: 22</th>\n",
       "      <th>Unnamed: 23</th>\n",
       "    </tr>\n",
       "  </thead>\n",
       "  <tbody>\n",
       "    <tr>\n",
       "      <th>1046</th>\n",
       "      <td>NaN</td>\n",
       "      <td>01-Feb-2010</td>\n",
       "      <td>2010</td>\n",
       "      <td>Provoked</td>\n",
       "      <td>NEW ZEALAND</td>\n",
       "      <td>South Island</td>\n",
       "      <td>Oreti Beach</td>\n",
       "      <td>Boogie Boarding</td>\n",
       "      <td>Lydia Ward</td>\n",
       "      <td>F</td>\n",
       "      <td>14</td>\n",
       "      <td>Stepped on shark PROVOKED INCIDENT</td>\n",
       "      <td>N</td>\n",
       "      <td>18h30</td>\n",
       "      <td>1.5 m shark</td>\n",
       "      <td>R.D. Weeks, GSAF;   K. Ritchie, ABC News, 2/1/...</td>\n",
       "      <td>12.26</td>\n",
       "      <td>http://sharkattackfile.net/spreadsheets/pdf_di...</td>\n",
       "      <td>http://sharkattackfile.net/spreadsheets/pdf_di...</td>\n",
       "      <td>2010.02.01</td>\n",
       "      <td>2010.02.01</td>\n",
       "      <td>5257.0</td>\n",
       "      <td>NaN</td>\n",
       "      <td>NaN</td>\n",
       "    </tr>\n",
       "    <tr>\n",
       "      <th>5121</th>\n",
       "      <td>NaN</td>\n",
       "      <td>03-Nov-1927</td>\n",
       "      <td>1927</td>\n",
       "      <td>Sea Disaster</td>\n",
       "      <td>AUSTRALIA</td>\n",
       "      <td>New South Wales</td>\n",
       "      <td>Bradleys Head, Sydney</td>\n",
       "      <td>The steamer Tahiti collided with the ferry Gre...</td>\n",
       "      <td>NaN</td>\n",
       "      <td>NaN</td>\n",
       "      <td>NaN</td>\n",
       "      <td>40 people perished</td>\n",
       "      <td>Y</td>\n",
       "      <td>NaN</td>\n",
       "      <td>NaN</td>\n",
       "      <td>Oakland Tribune, 8/16/1930</td>\n",
       "      <td>1927.11.0-Tahiti-diaster.pdf</td>\n",
       "      <td>http://sharkattackfile.net/spreadsheets/pdf_di...</td>\n",
       "      <td>http://sharkattackfile.net/spreadsheets/pdf_di...</td>\n",
       "      <td>1927.11.03</td>\n",
       "      <td>1927.11.03</td>\n",
       "      <td>1182.0</td>\n",
       "      <td>NaN</td>\n",
       "      <td>NaN</td>\n",
       "    </tr>\n",
       "    <tr>\n",
       "      <th>5123</th>\n",
       "      <td>NaN</td>\n",
       "      <td>12-Oct-1927</td>\n",
       "      <td>1927</td>\n",
       "      <td>Unprovoked</td>\n",
       "      <td>AUSTRALIA</td>\n",
       "      <td>New South Wales</td>\n",
       "      <td>Kiah Creek, Eden</td>\n",
       "      <td>Riding horseback across the creek</td>\n",
       "      <td>Norman Severs &amp; horse</td>\n",
       "      <td>M</td>\n",
       "      <td>NaN</td>\n",
       "      <td>No injury to man or horse</td>\n",
       "      <td>N</td>\n",
       "      <td>NaN</td>\n",
       "      <td>NaN</td>\n",
       "      <td>Advertiser, 10/14/1927; V.M. Coppleson (1933);...</td>\n",
       "      <td>1927.10-12-Severs-horse.pdf</td>\n",
       "      <td>http://sharkattackfile.net/spreadsheets/pdf_di...</td>\n",
       "      <td>http://sharkattackfile.net/spreadsheets/pdf_di...</td>\n",
       "      <td>1927.10.12</td>\n",
       "      <td>1927.10.12</td>\n",
       "      <td>1180.0</td>\n",
       "      <td>NaN</td>\n",
       "      <td>NaN</td>\n",
       "    </tr>\n",
       "  </tbody>\n",
       "</table>\n",
       "</div>"
      ],
      "text/plain": [
       "     Case Number         Date  Year          Type      Country  \\\n",
       "1046         NaN  01-Feb-2010  2010      Provoked  NEW ZEALAND   \n",
       "5121         NaN  03-Nov-1927  1927  Sea Disaster    AUSTRALIA   \n",
       "5123         NaN  12-Oct-1927  1927    Unprovoked    AUSTRALIA   \n",
       "\n",
       "                 Area                Location  \\\n",
       "1046     South Island             Oreti Beach   \n",
       "5121  New South Wales  Bradleys Head, Sydney    \n",
       "5123  New South Wales        Kiah Creek, Eden   \n",
       "\n",
       "                                               Activity  \\\n",
       "1046                                    Boogie Boarding   \n",
       "5121  The steamer Tahiti collided with the ferry Gre...   \n",
       "5123                  Riding horseback across the creek   \n",
       "\n",
       "                       Name  Sex  Age                              Injury  \\\n",
       "1046             Lydia Ward    F   14  Stepped on shark PROVOKED INCIDENT   \n",
       "5121                    NaN  NaN  NaN                  40 people perished   \n",
       "5123  Norman Severs & horse    M  NaN           No injury to man or horse   \n",
       "\n",
       "     Fatal (Y/N)   Time      Species  \\\n",
       "1046           N  18h30  1.5 m shark   \n",
       "5121           Y    NaN          NaN   \n",
       "5123           N    NaN          NaN   \n",
       "\n",
       "                                 Investigator or Source  \\\n",
       "1046  R.D. Weeks, GSAF;   K. Ritchie, ABC News, 2/1/...   \n",
       "5121                         Oakland Tribune, 8/16/1930   \n",
       "5123  Advertiser, 10/14/1927; V.M. Coppleson (1933);...   \n",
       "\n",
       "                               pdf  \\\n",
       "1046                         12.26   \n",
       "5121  1927.11.0-Tahiti-diaster.pdf   \n",
       "5123   1927.10-12-Severs-horse.pdf   \n",
       "\n",
       "                                           href formula  \\\n",
       "1046  http://sharkattackfile.net/spreadsheets/pdf_di...   \n",
       "5121  http://sharkattackfile.net/spreadsheets/pdf_di...   \n",
       "5123  http://sharkattackfile.net/spreadsheets/pdf_di...   \n",
       "\n",
       "                                                   href Case Number.1  \\\n",
       "1046  http://sharkattackfile.net/spreadsheets/pdf_di...    2010.02.01   \n",
       "5121  http://sharkattackfile.net/spreadsheets/pdf_di...    1927.11.03   \n",
       "5123  http://sharkattackfile.net/spreadsheets/pdf_di...    1927.10.12   \n",
       "\n",
       "     Case Number.2  original order Unnamed: 22 Unnamed: 23  \n",
       "1046    2010.02.01          5257.0         NaN         NaN  \n",
       "5121    1927.11.03          1182.0         NaN         NaN  \n",
       "5123    1927.10.12          1180.0         NaN         NaN  "
      ]
     },
     "execution_count": 16,
     "metadata": {},
     "output_type": "execute_result"
    }
   ],
   "source": [
    "attacks[attacks['Case Number'].isnull()]"
   ]
  },
  {
   "cell_type": "code",
   "execution_count": 17,
   "metadata": {
    "slideshow": {
     "slide_type": "fragment"
    }
   },
   "outputs": [],
   "source": [
    "# Para los valores nulos, igualar a la fecha de la columna 'Date'\n",
    "\n",
    "attacks['Case Number'].fillna(attacks['Date'], inplace=True)"
   ]
  },
  {
   "cell_type": "code",
   "execution_count": 18,
   "metadata": {
    "slideshow": {
     "slide_type": "skip"
    }
   },
   "outputs": [],
   "source": [
    "attacks['Case Number'] = pd.to_datetime(attacks['Case Number'], errors='coerce').dt.strftime('%Y-%m-%d')"
   ]
  },
  {
   "cell_type": "code",
   "execution_count": 19,
   "metadata": {
    "slideshow": {
     "slide_type": "skip"
    }
   },
   "outputs": [
    {
     "data": {
      "text/html": [
       "<div>\n",
       "<style scoped>\n",
       "    .dataframe tbody tr th:only-of-type {\n",
       "        vertical-align: middle;\n",
       "    }\n",
       "\n",
       "    .dataframe tbody tr th {\n",
       "        vertical-align: top;\n",
       "    }\n",
       "\n",
       "    .dataframe thead th {\n",
       "        text-align: right;\n",
       "    }\n",
       "</style>\n",
       "<table border=\"1\" class=\"dataframe\">\n",
       "  <thead>\n",
       "    <tr style=\"text-align: right;\">\n",
       "      <th></th>\n",
       "      <th>Case Number</th>\n",
       "      <th>Date</th>\n",
       "      <th>Year</th>\n",
       "      <th>Type</th>\n",
       "      <th>Country</th>\n",
       "      <th>Area</th>\n",
       "      <th>Location</th>\n",
       "      <th>Activity</th>\n",
       "      <th>Name</th>\n",
       "      <th>Sex</th>\n",
       "      <th>Age</th>\n",
       "      <th>Injury</th>\n",
       "      <th>Fatal (Y/N)</th>\n",
       "      <th>Time</th>\n",
       "      <th>Species</th>\n",
       "      <th>Investigator or Source</th>\n",
       "      <th>pdf</th>\n",
       "      <th>href formula</th>\n",
       "      <th>href</th>\n",
       "      <th>Case Number.1</th>\n",
       "      <th>Case Number.2</th>\n",
       "      <th>original order</th>\n",
       "      <th>Unnamed: 22</th>\n",
       "      <th>Unnamed: 23</th>\n",
       "    </tr>\n",
       "  </thead>\n",
       "  <tbody>\n",
       "  </tbody>\n",
       "</table>\n",
       "</div>"
      ],
      "text/plain": [
       "Empty DataFrame\n",
       "Columns: [Case Number, Date, Year, Type, Country, Area, Location, Activity, Name, Sex, Age, Injury, Fatal (Y/N), Time, Species, Investigator or Source, pdf, href formula, href, Case Number.1, Case Number.2, original order, Unnamed: 22, Unnamed: 23]\n",
       "Index: []"
      ]
     },
     "execution_count": 19,
     "metadata": {},
     "output_type": "execute_result"
    }
   ],
   "source": [
    "attacks[attacks['Case Number'].isnull()]"
   ]
  },
  {
   "cell_type": "code",
   "execution_count": 20,
   "metadata": {
    "slideshow": {
     "slide_type": "fragment"
    }
   },
   "outputs": [],
   "source": [
    "# Eliminar la columna 'Date'\n",
    "\n",
    "attacks.drop(axis=1, columns=['Date'], inplace=True)"
   ]
  },
  {
   "cell_type": "code",
   "execution_count": 21,
   "metadata": {
    "slideshow": {
     "slide_type": "fragment"
    }
   },
   "outputs": [],
   "source": [
    "# Renombrar 'Case Number' por 'Date'\n",
    "\n",
    "attacks.rename(columns={'Case Number': 'Date'}, inplace=True)"
   ]
  },
  {
   "cell_type": "code",
   "execution_count": 22,
   "metadata": {
    "slideshow": {
     "slide_type": "subslide"
    }
   },
   "outputs": [
    {
     "data": {
      "text/html": [
       "<div>\n",
       "<style scoped>\n",
       "    .dataframe tbody tr th:only-of-type {\n",
       "        vertical-align: middle;\n",
       "    }\n",
       "\n",
       "    .dataframe tbody tr th {\n",
       "        vertical-align: top;\n",
       "    }\n",
       "\n",
       "    .dataframe thead th {\n",
       "        text-align: right;\n",
       "    }\n",
       "</style>\n",
       "<table border=\"1\" class=\"dataframe\">\n",
       "  <thead>\n",
       "    <tr style=\"text-align: right;\">\n",
       "      <th></th>\n",
       "      <th>Date</th>\n",
       "      <th>Year</th>\n",
       "      <th>Type</th>\n",
       "      <th>Country</th>\n",
       "      <th>Area</th>\n",
       "      <th>Location</th>\n",
       "      <th>Activity</th>\n",
       "      <th>Name</th>\n",
       "      <th>Sex</th>\n",
       "      <th>Age</th>\n",
       "      <th>Injury</th>\n",
       "      <th>Fatal (Y/N)</th>\n",
       "      <th>Time</th>\n",
       "      <th>Species</th>\n",
       "      <th>Investigator or Source</th>\n",
       "      <th>pdf</th>\n",
       "      <th>href formula</th>\n",
       "      <th>href</th>\n",
       "      <th>Case Number.1</th>\n",
       "      <th>Case Number.2</th>\n",
       "      <th>original order</th>\n",
       "      <th>Unnamed: 22</th>\n",
       "      <th>Unnamed: 23</th>\n",
       "    </tr>\n",
       "  </thead>\n",
       "  <tbody>\n",
       "    <tr>\n",
       "      <th>0</th>\n",
       "      <td>2018-06-25</td>\n",
       "      <td>2018</td>\n",
       "      <td>Boating</td>\n",
       "      <td>USA</td>\n",
       "      <td>California</td>\n",
       "      <td>Oceanside, San Diego County</td>\n",
       "      <td>Paddling</td>\n",
       "      <td>Julie Wolfe</td>\n",
       "      <td>F</td>\n",
       "      <td>57</td>\n",
       "      <td>No injury to occupant, outrigger canoe and pad...</td>\n",
       "      <td>N</td>\n",
       "      <td>18h00</td>\n",
       "      <td>White shark</td>\n",
       "      <td>R. Collier, GSAF</td>\n",
       "      <td>2018.06.25-Wolfe.pdf</td>\n",
       "      <td>http://sharkattackfile.net/spreadsheets/pdf_di...</td>\n",
       "      <td>http://sharkattackfile.net/spreadsheets/pdf_di...</td>\n",
       "      <td>2018.06.25</td>\n",
       "      <td>2018.06.25</td>\n",
       "      <td>6303.0</td>\n",
       "      <td>NaN</td>\n",
       "      <td>NaN</td>\n",
       "    </tr>\n",
       "    <tr>\n",
       "      <th>1</th>\n",
       "      <td>2018-06-18</td>\n",
       "      <td>2018</td>\n",
       "      <td>Unprovoked</td>\n",
       "      <td>USA</td>\n",
       "      <td>Georgia</td>\n",
       "      <td>St. Simon Island, Glynn County</td>\n",
       "      <td>Standing</td>\n",
       "      <td>Adyson McNeely</td>\n",
       "      <td>F</td>\n",
       "      <td>11</td>\n",
       "      <td>Minor injury to left thigh</td>\n",
       "      <td>N</td>\n",
       "      <td>14h00  -15h00</td>\n",
       "      <td>NaN</td>\n",
       "      <td>K.McMurray, TrackingSharks.com</td>\n",
       "      <td>2018.06.18-McNeely.pdf</td>\n",
       "      <td>http://sharkattackfile.net/spreadsheets/pdf_di...</td>\n",
       "      <td>http://sharkattackfile.net/spreadsheets/pdf_di...</td>\n",
       "      <td>2018.06.18</td>\n",
       "      <td>2018.06.18</td>\n",
       "      <td>6302.0</td>\n",
       "      <td>NaN</td>\n",
       "      <td>NaN</td>\n",
       "    </tr>\n",
       "    <tr>\n",
       "      <th>2</th>\n",
       "      <td>2018-06-09</td>\n",
       "      <td>2018</td>\n",
       "      <td>Invalid</td>\n",
       "      <td>USA</td>\n",
       "      <td>Hawaii</td>\n",
       "      <td>Habush, Oahu</td>\n",
       "      <td>Surfing</td>\n",
       "      <td>John Denges</td>\n",
       "      <td>M</td>\n",
       "      <td>48</td>\n",
       "      <td>Injury to left lower leg from surfboard skeg</td>\n",
       "      <td>N</td>\n",
       "      <td>07h45</td>\n",
       "      <td>NaN</td>\n",
       "      <td>K.McMurray, TrackingSharks.com</td>\n",
       "      <td>2018.06.09-Denges.pdf</td>\n",
       "      <td>http://sharkattackfile.net/spreadsheets/pdf_di...</td>\n",
       "      <td>http://sharkattackfile.net/spreadsheets/pdf_di...</td>\n",
       "      <td>2018.06.09</td>\n",
       "      <td>2018.06.09</td>\n",
       "      <td>6301.0</td>\n",
       "      <td>NaN</td>\n",
       "      <td>NaN</td>\n",
       "    </tr>\n",
       "    <tr>\n",
       "      <th>3</th>\n",
       "      <td>2018-06-08</td>\n",
       "      <td>2018</td>\n",
       "      <td>Unprovoked</td>\n",
       "      <td>AUSTRALIA</td>\n",
       "      <td>New South Wales</td>\n",
       "      <td>Arrawarra Headland</td>\n",
       "      <td>Surfing</td>\n",
       "      <td>male</td>\n",
       "      <td>M</td>\n",
       "      <td>NaN</td>\n",
       "      <td>Minor injury to lower leg</td>\n",
       "      <td>N</td>\n",
       "      <td>NaN</td>\n",
       "      <td>2 m shark</td>\n",
       "      <td>B. Myatt, GSAF</td>\n",
       "      <td>2018.06.08-Arrawarra.pdf</td>\n",
       "      <td>http://sharkattackfile.net/spreadsheets/pdf_di...</td>\n",
       "      <td>http://sharkattackfile.net/spreadsheets/pdf_di...</td>\n",
       "      <td>2018.06.08</td>\n",
       "      <td>2018.06.08</td>\n",
       "      <td>6300.0</td>\n",
       "      <td>NaN</td>\n",
       "      <td>NaN</td>\n",
       "    </tr>\n",
       "    <tr>\n",
       "      <th>4</th>\n",
       "      <td>2018-06-04</td>\n",
       "      <td>2018</td>\n",
       "      <td>Provoked</td>\n",
       "      <td>MEXICO</td>\n",
       "      <td>Colima</td>\n",
       "      <td>La Ticla</td>\n",
       "      <td>Free diving</td>\n",
       "      <td>Gustavo Ramos</td>\n",
       "      <td>M</td>\n",
       "      <td>NaN</td>\n",
       "      <td>Lacerations to leg &amp; hand shark PROVOKED INCIDENT</td>\n",
       "      <td>N</td>\n",
       "      <td>NaN</td>\n",
       "      <td>Tiger shark, 3m</td>\n",
       "      <td>A .Kipper</td>\n",
       "      <td>2018.06.04-Ramos.pdf</td>\n",
       "      <td>http://sharkattackfile.net/spreadsheets/pdf_di...</td>\n",
       "      <td>http://sharkattackfile.net/spreadsheets/pdf_di...</td>\n",
       "      <td>2018.06.04</td>\n",
       "      <td>2018.06.04</td>\n",
       "      <td>6299.0</td>\n",
       "      <td>NaN</td>\n",
       "      <td>NaN</td>\n",
       "    </tr>\n",
       "  </tbody>\n",
       "</table>\n",
       "</div>"
      ],
      "text/plain": [
       "         Date  Year        Type    Country             Area  \\\n",
       "0  2018-06-25  2018     Boating        USA       California   \n",
       "1  2018-06-18  2018  Unprovoked        USA          Georgia   \n",
       "2  2018-06-09  2018     Invalid        USA           Hawaii   \n",
       "3  2018-06-08  2018  Unprovoked  AUSTRALIA  New South Wales   \n",
       "4  2018-06-04  2018    Provoked     MEXICO           Colima   \n",
       "\n",
       "                         Location     Activity             Name Sex  Age  \\\n",
       "0     Oceanside, San Diego County     Paddling      Julie Wolfe   F   57   \n",
       "1  St. Simon Island, Glynn County     Standing  Adyson McNeely    F   11   \n",
       "2                    Habush, Oahu      Surfing      John Denges   M   48   \n",
       "3              Arrawarra Headland      Surfing             male   M  NaN   \n",
       "4                        La Ticla  Free diving   Gustavo Ramos    M  NaN   \n",
       "\n",
       "                                              Injury Fatal (Y/N)  \\\n",
       "0  No injury to occupant, outrigger canoe and pad...           N   \n",
       "1                         Minor injury to left thigh           N   \n",
       "2       Injury to left lower leg from surfboard skeg           N   \n",
       "3                          Minor injury to lower leg           N   \n",
       "4  Lacerations to leg & hand shark PROVOKED INCIDENT           N   \n",
       "\n",
       "            Time          Species          Investigator or Source  \\\n",
       "0          18h00      White shark                R. Collier, GSAF   \n",
       "1  14h00  -15h00              NaN  K.McMurray, TrackingSharks.com   \n",
       "2          07h45              NaN  K.McMurray, TrackingSharks.com   \n",
       "3            NaN        2 m shark                  B. Myatt, GSAF   \n",
       "4            NaN  Tiger shark, 3m                       A .Kipper   \n",
       "\n",
       "                        pdf  \\\n",
       "0      2018.06.25-Wolfe.pdf   \n",
       "1    2018.06.18-McNeely.pdf   \n",
       "2     2018.06.09-Denges.pdf   \n",
       "3  2018.06.08-Arrawarra.pdf   \n",
       "4      2018.06.04-Ramos.pdf   \n",
       "\n",
       "                                        href formula  \\\n",
       "0  http://sharkattackfile.net/spreadsheets/pdf_di...   \n",
       "1  http://sharkattackfile.net/spreadsheets/pdf_di...   \n",
       "2  http://sharkattackfile.net/spreadsheets/pdf_di...   \n",
       "3  http://sharkattackfile.net/spreadsheets/pdf_di...   \n",
       "4  http://sharkattackfile.net/spreadsheets/pdf_di...   \n",
       "\n",
       "                                                href Case Number.1  \\\n",
       "0  http://sharkattackfile.net/spreadsheets/pdf_di...    2018.06.25   \n",
       "1  http://sharkattackfile.net/spreadsheets/pdf_di...    2018.06.18   \n",
       "2  http://sharkattackfile.net/spreadsheets/pdf_di...    2018.06.09   \n",
       "3  http://sharkattackfile.net/spreadsheets/pdf_di...    2018.06.08   \n",
       "4  http://sharkattackfile.net/spreadsheets/pdf_di...    2018.06.04   \n",
       "\n",
       "  Case Number.2  original order Unnamed: 22 Unnamed: 23  \n",
       "0    2018.06.25          6303.0         NaN         NaN  \n",
       "1    2018.06.18          6302.0         NaN         NaN  \n",
       "2    2018.06.09          6301.0         NaN         NaN  \n",
       "3    2018.06.08          6300.0         NaN         NaN  \n",
       "4    2018.06.04          6299.0         NaN         NaN  "
      ]
     },
     "execution_count": 22,
     "metadata": {},
     "output_type": "execute_result"
    }
   ],
   "source": [
    "attacks.head()"
   ]
  },
  {
   "cell_type": "markdown",
   "metadata": {
    "slideshow": {
     "slide_type": "subslide"
    }
   },
   "source": [
    "#### 'Type'"
   ]
  },
  {
   "cell_type": "code",
   "execution_count": 23,
   "metadata": {
    "slideshow": {
     "slide_type": "skip"
    }
   },
   "outputs": [
    {
     "data": {
      "text/plain": [
       "Unprovoked      4474\n",
       "Provoked         567\n",
       "Invalid          543\n",
       "Sea Disaster     233\n",
       "Boating          203\n",
       "Boat             135\n",
       "Questionable       2\n",
       "Boatomg            1\n",
       "Name: Type, dtype: int64"
      ]
     },
     "execution_count": 23,
     "metadata": {},
     "output_type": "execute_result"
    }
   ],
   "source": [
    "attacks['Type'].value_counts()"
   ]
  },
  {
   "cell_type": "code",
   "execution_count": 24,
   "metadata": {
    "slideshow": {
     "slide_type": "fragment"
    }
   },
   "outputs": [],
   "source": [
    "attacks['Type'].replace(to_replace='Boat\\w*', value='Boating', regex=True, inplace=True)"
   ]
  },
  {
   "cell_type": "code",
   "execution_count": 25,
   "metadata": {
    "slideshow": {
     "slide_type": "fragment"
    }
   },
   "outputs": [],
   "source": [
    "attacks['Type'].replace(to_replace='Questionable', value='Unknown', regex=True, inplace=True)"
   ]
  },
  {
   "cell_type": "code",
   "execution_count": 26,
   "metadata": {
    "slideshow": {
     "slide_type": "fragment"
    }
   },
   "outputs": [],
   "source": [
    "attacks['Type'].fillna('Unknown', inplace=True)"
   ]
  },
  {
   "cell_type": "code",
   "execution_count": 27,
   "metadata": {
    "slideshow": {
     "slide_type": "fragment"
    }
   },
   "outputs": [
    {
     "data": {
      "text/plain": [
       "Unprovoked      4474\n",
       "Provoked         567\n",
       "Invalid          543\n",
       "Boating          339\n",
       "Sea Disaster     233\n",
       "Unknown            6\n",
       "Name: Type, dtype: int64"
      ]
     },
     "execution_count": 27,
     "metadata": {},
     "output_type": "execute_result"
    }
   ],
   "source": [
    "attacks['Type'].value_counts()"
   ]
  },
  {
   "cell_type": "code",
   "execution_count": 28,
   "metadata": {
    "slideshow": {
     "slide_type": "skip"
    }
   },
   "outputs": [
    {
     "data": {
      "text/plain": [
       "array([' PHILIPPINES', ' TONGA', 'ADMIRALTY ISLANDS', 'AFRICA', 'ALGERIA',\n",
       "       'AMERICAN SAMOA', 'ANDAMAN / NICOBAR ISLANDAS', 'ANDAMAN ISLANDS',\n",
       "       'ANGOLA', 'ANTIGUA', 'ARGENTINA', 'ARUBA', 'ATLANTIC OCEAN',\n",
       "       'AUSTRALIA', 'AZORES', 'BAHAMAS', 'BANGLADESH', 'BARBADOS',\n",
       "       'BAY OF BENGAL', 'BELIZE', 'BERMUDA', 'BRAZIL', 'BRITISH ISLES',\n",
       "       'BRITISH NEW GUINEA', 'BRITISH VIRGIN ISLANDS',\n",
       "       'BRITISH WEST INDIES', 'BURMA', 'CANADA', 'CAPE VERDE',\n",
       "       'CARIBBEAN SEA', 'CAYMAN ISLANDS', 'CENTRAL PACIFIC', 'CEYLON',\n",
       "       'CHILE', 'CHINA', 'COLUMBIA', 'COMOROS', 'COOK ISLANDS',\n",
       "       'COSTA RICA', 'CRETE', 'CROATIA', 'CUBA', 'CURACAO', 'CYPRUS',\n",
       "       'Coast of AFRICA', 'DIEGO GARCIA', 'DOMINICAN REPUBLIC', 'ECUADOR',\n",
       "       'EGYPT', 'EGYPT ', 'EGYPT / ISRAEL', 'EL SALVADOR', 'ENGLAND',\n",
       "       'EQUATORIAL GUINEA / CAMEROON', 'FALKLAND ISLANDS',\n",
       "       'FEDERATED STATES OF MICRONESIA', 'FIJI', 'FRANCE',\n",
       "       'FRENCH POLYNESIA', 'Fiji', 'GABON', 'GEORGIA', 'GHANA',\n",
       "       'GRAND CAYMAN', 'GREECE', 'GREENLAND', 'GRENADA', 'GUAM',\n",
       "       'GUATEMALA', 'GUINEA', 'GULF OF ADEN', 'GUYANA', 'HAITI',\n",
       "       'HONDURAS', 'HONG KONG', 'ICELAND', 'INDIA', 'INDIAN OCEAN',\n",
       "       'INDIAN OCEAN?', 'INDONESIA', 'IRAN', 'IRAN / IRAQ', 'IRAQ',\n",
       "       'IRELAND', 'ISRAEL', 'ITALY', 'ITALY / CROATIA', 'JAMAICA',\n",
       "       'JAPAN', 'JAVA', 'JOHNSTON ISLAND', 'KENYA', 'KIRIBATI', 'KUWAIT',\n",
       "       'LEBANON', 'LIBERIA', 'LIBYA', 'MADAGASCAR', 'MALAYSIA',\n",
       "       'MALDIVE ISLANDS', 'MALDIVES', 'MALTA', 'MARSHALL ISLANDS',\n",
       "       'MARTINIQUE', 'MAURITIUS', 'MAYOTTE', 'MEDITERRANEAN SEA',\n",
       "       'MEXICO', 'MEXICO ', 'MICRONESIA', 'MID ATLANTIC OCEAN',\n",
       "       'MID-PACIFC OCEAN', 'MONACO', 'MONTENEGRO', 'MOZAMBIQUE',\n",
       "       'NAMIBIA', 'NETHERLANDS ANTILLES', 'NEVIS', 'NEW BRITAIN',\n",
       "       'NEW CALEDONIA', 'NEW GUINEA', 'NEW ZEALAND', 'NICARAGUA',\n",
       "       'NICARAGUA ', 'NIGERIA', 'NORTH ATLANTIC OCEAN',\n",
       "       'NORTH ATLANTIC OCEAN ', 'NORTH PACIFIC OCEAN', 'NORTH SEA',\n",
       "       'NORTHERN ARABIAN SEA', 'NORTHERN MARIANA ISLANDS', 'NORWAY',\n",
       "       'OCEAN', 'OKINAWA', 'PACIFIC OCEAN', 'PACIFIC OCEAN ', 'PALAU',\n",
       "       'PALESTINIAN TERRITORIES', 'PANAMA', 'PAPUA NEW GUINEA',\n",
       "       'PARAGUAY', 'PERSIAN GULF', 'PERU', 'PHILIPPINES', 'PORTUGAL',\n",
       "       'PUERTO RICO', 'RED SEA', 'RED SEA / INDIAN OCEAN', 'REUNION',\n",
       "       'REUNION ISLAND', 'ROATAN', 'RUSSIA', 'SAMOA', 'SAN DOMINGO',\n",
       "       'SAUDI ARABIA', 'SCOTLAND', 'SENEGAL', 'SEYCHELLES',\n",
       "       'SIERRA LEONE', 'SINGAPORE', 'SLOVENIA', 'SOLOMON ISLANDS',\n",
       "       'SOLOMON ISLANDS / VANUATU', 'SOMALIA', 'SOUTH AFRICA',\n",
       "       'SOUTH ATLANTIC OCEAN', 'SOUTH CHINA SEA', 'SOUTH KOREA',\n",
       "       'SOUTH PACIFIC OCEAN', 'SOUTHWEST PACIFIC OCEAN', 'SPAIN',\n",
       "       'SRI LANKA', 'ST HELENA, British overseas territory',\n",
       "       'ST. MAARTIN', 'ST. MARTIN', 'SUDAN', 'SUDAN?', 'SWEDEN', 'SYRIA',\n",
       "       'Seychelles', 'Sierra Leone', 'TAIWAN', 'TANZANIA', 'TASMAN SEA',\n",
       "       'THAILAND', 'THE BALKANS', 'TOBAGO', 'TONGA', 'TRINIDAD & TOBAGO',\n",
       "       'TUNISIA', 'TURKEY', 'TURKS & CAICOS', 'TUVALU',\n",
       "       'UNITED ARAB EMIRATES', 'UNITED ARAB EMIRATES (UAE)',\n",
       "       'UNITED KINGDOM', 'URUGUAY', 'USA', 'VANUATU', 'VENEZUELA',\n",
       "       'VIETNAM', 'WEST INDIES', 'WESTERN SAMOA', 'YEMEN', 'YEMEN ', nan],\n",
       "      dtype=object)"
      ]
     },
     "execution_count": 28,
     "metadata": {},
     "output_type": "execute_result"
    }
   ],
   "source": [
    "attacks['Country'].sort_values().unique()"
   ]
  },
  {
   "cell_type": "markdown",
   "metadata": {
    "slideshow": {
     "slide_type": "subslide"
    }
   },
   "source": [
    "#### 'Country'"
   ]
  },
  {
   "cell_type": "code",
   "execution_count": 29,
   "metadata": {
    "slideshow": {
     "slide_type": "fragment"
    }
   },
   "outputs": [],
   "source": [
    "# Convertir todo a mayúsculas\n",
    "\n",
    "attacks['Country'] = attacks['Country'].str.upper() "
   ]
  },
  {
   "cell_type": "code",
   "execution_count": 30,
   "metadata": {
    "slideshow": {
     "slide_type": "fragment"
    }
   },
   "outputs": [],
   "source": [
    "# Eliminar espacios al principio y limpiar países\n",
    "\n",
    "attacks['Country'].replace(to_replace='^\\s*|\\s*$|\\s*\\/\\s*\\w+|\\?$|(?<=HELENA)(.*)|(?<=EMIRATES)(.*)|(.*)(?=AFRICA)|(.*)(?=MICRONESIA)|^MID\\W+', value='', regex=True, inplace=True)"
   ]
  },
  {
   "cell_type": "code",
   "execution_count": 31,
   "metadata": {
    "slideshow": {
     "slide_type": "fragment"
    }
   },
   "outputs": [],
   "source": [
    "attacks['Country'].replace(to_replace='ISLANDAS', value='ISLANDS', regex=True, inplace=True)"
   ]
  },
  {
   "cell_type": "code",
   "execution_count": 32,
   "metadata": {
    "slideshow": {
     "slide_type": "fragment"
    }
   },
   "outputs": [],
   "source": [
    "attacks['Country'].replace(to_replace='MALDIVE ISLANDS', value='MALDIVES', regex=True, inplace=True)"
   ]
  },
  {
   "cell_type": "code",
   "execution_count": 33,
   "metadata": {
    "slideshow": {
     "slide_type": "skip"
    }
   },
   "outputs": [],
   "source": [
    "attacks['Country'].replace(to_replace='RED SEA$', value='RED SEA OCEAN', regex=True, inplace=True)"
   ]
  },
  {
   "cell_type": "code",
   "execution_count": 34,
   "metadata": {
    "slideshow": {
     "slide_type": "skip"
    }
   },
   "outputs": [],
   "source": [
    "attacks['Country'].replace(to_replace='REUNION$', value='REUNION ISLAND', regex=True, inplace=True)"
   ]
  },
  {
   "cell_type": "code",
   "execution_count": 35,
   "metadata": {
    "slideshow": {
     "slide_type": "skip"
    }
   },
   "outputs": [],
   "source": [
    "attacks['Country'].replace(to_replace='PACIFC', value='PACIFIC', regex=True, inplace=True)"
   ]
  },
  {
   "cell_type": "code",
   "execution_count": 36,
   "metadata": {
    "slideshow": {
     "slide_type": "fragment"
    }
   },
   "outputs": [],
   "source": [
    "attacks['Country'].replace(to_replace='^ST\\s+', value='ST. ', regex=True, inplace=True)"
   ]
  },
  {
   "cell_type": "code",
   "execution_count": 37,
   "metadata": {
    "slideshow": {
     "slide_type": "skip"
    }
   },
   "outputs": [],
   "source": [
    "attacks['Country'].replace(to_replace='MAARTIN$', value='MARTIN', regex=True, inplace=True)"
   ]
  },
  {
   "cell_type": "code",
   "execution_count": 38,
   "metadata": {
    "slideshow": {
     "slide_type": "fragment"
    }
   },
   "outputs": [],
   "source": [
    "attacks['Country'].fillna('UNKNOWN', inplace=True)"
   ]
  },
  {
   "cell_type": "code",
   "execution_count": 39,
   "metadata": {
    "slideshow": {
     "slide_type": "fragment"
    }
   },
   "outputs": [],
   "source": [
    "attacks['Country'] = attacks['Country'].str.title() "
   ]
  },
  {
   "cell_type": "code",
   "execution_count": 40,
   "metadata": {
    "slideshow": {
     "slide_type": "fragment"
    }
   },
   "outputs": [],
   "source": [
    "attacks['Country'].replace(to_replace='Usa', value='USA', regex=True, inplace=True)"
   ]
  },
  {
   "cell_type": "code",
   "execution_count": 41,
   "metadata": {
    "slideshow": {
     "slide_type": "subslide"
    }
   },
   "outputs": [
    {
     "data": {
      "text/plain": [
       "array(['Admiralty Islands', 'Africa', 'Algeria', 'American Samoa',\n",
       "       'Andaman Islands', 'Angola', 'Antigua', 'Argentina', 'Aruba',\n",
       "       'Atlantic Ocean', 'Australia', 'Azores', 'Bahamas', 'Bangladesh',\n",
       "       'Barbados', 'Bay Of Bengal', 'Belize', 'Bermuda', 'Brazil',\n",
       "       'British Isles', 'British New Guinea', 'British Virgin Islands',\n",
       "       'British West Indies', 'Burma', 'Canada', 'Cape Verde',\n",
       "       'Caribbean Sea', 'Cayman Islands', 'Central Pacific', 'Ceylon',\n",
       "       'Chile', 'China', 'Columbia', 'Comoros', 'Cook Islands',\n",
       "       'Costa Rica', 'Crete', 'Croatia', 'Cuba', 'Curacao', 'Cyprus',\n",
       "       'Diego Garcia', 'Dominican Republic', 'Ecuador', 'Egypt',\n",
       "       'El Salvador', 'England', 'Equatorial Guinea', 'Falkland Islands',\n",
       "       'Fiji', 'France', 'French Polynesia', 'Gabon', 'Georgia', 'Ghana',\n",
       "       'Grand Cayman', 'Greece', 'Greenland', 'Grenada', 'Guam',\n",
       "       'Guatemala', 'Guinea', 'Gulf Of Aden', 'Guyana', 'Haiti',\n",
       "       'Honduras', 'Hong Kong', 'Iceland', 'India', 'Indian Ocean',\n",
       "       'Indonesia', 'Iran', 'Iraq', 'Ireland', 'Israel', 'Italy',\n",
       "       'Jamaica', 'Japan', 'Java', 'Johnston Island', 'Kenya', 'Kiribati',\n",
       "       'Kuwait', 'Lebanon', 'Liberia', 'Libya', 'Madagascar', 'Malaysia',\n",
       "       'Maldives', 'Malta', 'Marshall Islands', 'Martinique', 'Mauritius',\n",
       "       'Mayotte', 'Mediterranean Sea', 'Mexico', 'Micronesia', 'Monaco',\n",
       "       'Montenegro', 'Mozambique', 'Namibia', 'Netherlands Antilles',\n",
       "       'Nevis', 'New Britain', 'New Caledonia', 'New Guinea',\n",
       "       'New Zealand', 'Nicaragua', 'Nigeria', 'North Atlantic Ocean',\n",
       "       'North Pacific Ocean', 'North Sea', 'Northern Arabian Sea',\n",
       "       'Northern Mariana Islands', 'Norway', 'Ocean', 'Okinawa',\n",
       "       'Pacific Ocean', 'Palau', 'Palestinian Territories', 'Panama',\n",
       "       'Papua New Guinea', 'Paraguay', 'Persian Gulf', 'Peru',\n",
       "       'Philippines', 'Portugal', 'Puerto Rico', 'Red Sea Ocean',\n",
       "       'Reunion Island', 'Roatan', 'Russia', 'Samoa', 'San Domingo',\n",
       "       'Saudi Arabia', 'Scotland', 'Senegal', 'Seychelles',\n",
       "       'Sierra Leone', 'Singapore', 'Slovenia', 'Solomon Islands',\n",
       "       'Somalia', 'South Atlantic Ocean', 'South China Sea',\n",
       "       'South Korea', 'South Pacific Ocean', 'Southwest Pacific Ocean',\n",
       "       'Spain', 'Sri Lanka', 'St. Helena', 'St. Martin', 'Sudan',\n",
       "       'Sweden', 'Syria', 'Taiwan', 'Tanzania', 'Tasman Sea', 'Thailand',\n",
       "       'The Balkans', 'Tobago', 'Tonga', 'Trinidad & Tobago', 'Tunisia',\n",
       "       'Turkey', 'Turks & Caicos', 'Tuvalu', 'USA',\n",
       "       'United Arab Emirates', 'United Kingdom', 'Unknown', 'Uruguay',\n",
       "       'Vanuatu', 'Venezuela', 'Vietnam', 'West Indies', 'Western Samoa',\n",
       "       'Yemen'], dtype=object)"
      ]
     },
     "execution_count": 41,
     "metadata": {},
     "output_type": "execute_result"
    }
   ],
   "source": [
    "attacks['Country'].sort_values().unique()"
   ]
  },
  {
   "cell_type": "markdown",
   "metadata": {
    "slideshow": {
     "slide_type": "subslide"
    }
   },
   "source": [
    "#### 'Area' y 'Location'\n",
    "\n",
    "Al tener muchos datos sucios, he decidido mantenerlas en el DataFrame pero no limpiarlas."
   ]
  },
  {
   "cell_type": "code",
   "execution_count": 42,
   "metadata": {
    "slideshow": {
     "slide_type": "skip"
    }
   },
   "outputs": [],
   "source": [
    "# Limpiar espacios innecesarios\n",
    "\n",
    "attacks['Area'].replace(to_replace='^\\s*|\\s{2,}|\\s*$', value='', regex=True, inplace=True)\n",
    "attacks['Area'] = attacks['Area'].fillna('Unknown')"
   ]
  },
  {
   "cell_type": "code",
   "execution_count": 43,
   "metadata": {
    "slideshow": {
     "slide_type": "skip"
    }
   },
   "outputs": [],
   "source": [
    "# Limpiar espacios innecesarios\n",
    "\n",
    "attacks['Location'].replace(to_replace='^\\s*|\\s{2,}|\\s*$', value='', regex=True, inplace=True)\n",
    "attacks['Location'] = attacks['Location'].fillna('Unknown')"
   ]
  },
  {
   "cell_type": "markdown",
   "metadata": {
    "slideshow": {
     "slide_type": "subslide"
    }
   },
   "source": [
    "#### 'Activity'"
   ]
  },
  {
   "cell_type": "code",
   "execution_count": 44,
   "metadata": {
    "slideshow": {
     "slide_type": "skip"
    }
   },
   "outputs": [],
   "source": [
    "attacks['Activity'] = attacks['Activity'].str.title()"
   ]
  },
  {
   "cell_type": "code",
   "execution_count": 45,
   "metadata": {
    "slideshow": {
     "slide_type": "skip"
    }
   },
   "outputs": [
    {
     "data": {
      "text/plain": [
       "Surfing            970\n",
       "Swimming           852\n",
       "Fishing            423\n",
       "Spearfishing       332\n",
       "Bathing            159\n",
       "Wading             146\n",
       "Diving             115\n",
       "Standing            97\n",
       "Scuba Diving        89\n",
       "Snorkeling          88\n",
       "Body Boarding       64\n",
       "Body Surfing        49\n",
       "Swimming            46\n",
       "Boogie Boarding     45\n",
       "Kayaking            33\n",
       "Treading Water      32\n",
       "Fell Overboard      32\n",
       "Free Diving         27\n",
       "Pearl Diving        27\n",
       "Windsurfing         19\n",
       "Name: Activity, dtype: int64"
      ]
     },
     "execution_count": 45,
     "metadata": {},
     "output_type": "execute_result"
    }
   ],
   "source": [
    "attacks['Activity'].value_counts().head(20)"
   ]
  },
  {
   "cell_type": "code",
   "execution_count": 46,
   "metadata": {
    "slideshow": {
     "slide_type": "skip"
    }
   },
   "outputs": [
    {
     "data": {
      "text/plain": [
       "521"
      ]
     },
     "execution_count": 46,
     "metadata": {},
     "output_type": "execute_result"
    }
   ],
   "source": [
    "attacks['Activity'].isnull().sum()"
   ]
  },
  {
   "cell_type": "code",
   "execution_count": 47,
   "metadata": {
    "slideshow": {
     "slide_type": "fragment"
    }
   },
   "outputs": [],
   "source": [
    "attacks['Activity'].fillna('Unknown', inplace=True)"
   ]
  },
  {
   "cell_type": "code",
   "execution_count": 48,
   "metadata": {
    "slideshow": {
     "slide_type": "fragment"
    }
   },
   "outputs": [],
   "source": [
    "attacks['Activity'].replace(to_replace='^\\s*|\\s{2,}|\\s*$', value='', regex=True, inplace=True)"
   ]
  },
  {
   "cell_type": "code",
   "execution_count": 49,
   "metadata": {
    "slideshow": {
     "slide_type": "fragment"
    }
   },
   "outputs": [
    {
     "data": {
      "text/plain": [
       "['Surfing',\n",
       " 'Swimming',\n",
       " 'Unknown',\n",
       " 'Fishing',\n",
       " 'Spearfishing',\n",
       " 'Bathing',\n",
       " 'Wading',\n",
       " 'Diving',\n",
       " 'Standing',\n",
       " 'Scuba Diving',\n",
       " 'Snorkeling',\n",
       " 'Body Boarding',\n",
       " 'Body Surfing',\n",
       " 'Boogie Boarding',\n",
       " 'Kayaking',\n",
       " 'Fell Overboard',\n",
       " 'Treading Water',\n",
       " 'Free Diving',\n",
       " 'Pearl Diving',\n",
       " 'Surf Skiing']"
      ]
     },
     "execution_count": 49,
     "metadata": {},
     "output_type": "execute_result"
    }
   ],
   "source": [
    "# Decido centrarme en las 20 actividades con más casos de ataques de tiburones.\n",
    "# Considero que solo esas son las relevantes, todo el resto son desconocidas.\n",
    "\n",
    "attacks['Activity'].value_counts().nlargest(20).index.to_list()"
   ]
  },
  {
   "cell_type": "code",
   "execution_count": 50,
   "metadata": {
    "slideshow": {
     "slide_type": "skip"
    }
   },
   "outputs": [],
   "source": [
    "# Quitar 'Unknown'\n",
    "\n",
    "activities = ['Surfing', 'Swimming', 'Fishing', 'Spearfishing', 'Bathing', 'Wading', 'Diving', 'Standing', 'Scuba Diving', 'Snorkeling', 'Body Boarding', 'Body Surfing', 'Boogie Boarding', 'Kayaking', 'Fell Overboard', 'Treading Water', 'Free Diving', 'Pearl Diving', 'Windsurfing']"
   ]
  },
  {
   "cell_type": "code",
   "execution_count": 51,
   "metadata": {
    "slideshow": {
     "slide_type": "subslide"
    }
   },
   "outputs": [],
   "source": [
    "attacks['Activity'] = attacks['Activity'].apply(lambda x: x if x in activities else 'Unknown')"
   ]
  },
  {
   "cell_type": "code",
   "execution_count": 52,
   "metadata": {
    "slideshow": {
     "slide_type": "fragment"
    }
   },
   "outputs": [
    {
     "data": {
      "text/plain": [
       "Unknown            2481\n",
       "Surfing             975\n",
       "Swimming            898\n",
       "Fishing             436\n",
       "Spearfishing        335\n",
       "Bathing             162\n",
       "Wading              146\n",
       "Diving              118\n",
       "Standing             99\n",
       "Scuba Diving         90\n",
       "Snorkeling           88\n",
       "Body Boarding        65\n",
       "Body Surfing         50\n",
       "Boogie Boarding      45\n",
       "Kayaking             35\n",
       "Fell Overboard       33\n",
       "Treading Water       32\n",
       "Free Diving          28\n",
       "Pearl Diving         27\n",
       "Windsurfing          19\n",
       "Name: Activity, dtype: int64"
      ]
     },
     "execution_count": 52,
     "metadata": {},
     "output_type": "execute_result"
    }
   ],
   "source": [
    "attacks['Activity'].value_counts()"
   ]
  },
  {
   "cell_type": "markdown",
   "metadata": {
    "slideshow": {
     "slide_type": "subslide"
    }
   },
   "source": [
    "#### 'Species'"
   ]
  },
  {
   "cell_type": "code",
   "execution_count": 53,
   "metadata": {
    "slideshow": {
     "slide_type": "skip"
    }
   },
   "outputs": [
    {
     "data": {
      "text/plain": [
       "White shark                                           162\n",
       "Shark involvement prior to death was not confirmed    105\n",
       "Invalid                                               101\n",
       "Shark involvement not confirmed                        88\n",
       "Tiger shark                                            70\n",
       "Shark involvement prior to death unconfirmed           68\n",
       "Bull shark                                             47\n",
       "4' shark                                               40\n",
       "6' shark                                               39\n",
       "Questionable incident                                  35\n",
       "1.8 m [6'] shark                                       33\n",
       "1.5 m [5'] shark                                       32\n",
       "Questionable                                           32\n",
       "3' shark                                               26\n",
       "5' shark                                               26\n",
       "1.2 m [4'] shark                                       26\n",
       "2 m shark                                              25\n",
       "4' to 5' shark                                         24\n",
       "3 m [10'] shark                                        22\n",
       "Wobbegong shark                                        21\n",
       "Name: Species, dtype: int64"
      ]
     },
     "execution_count": 53,
     "metadata": {},
     "output_type": "execute_result"
    }
   ],
   "source": [
    "attacks['Species'].value_counts().head(20)"
   ]
  },
  {
   "cell_type": "code",
   "execution_count": 54,
   "metadata": {
    "slideshow": {
     "slide_type": "fragment"
    }
   },
   "outputs": [],
   "source": [
    "attacks['Species'].replace(to_replace='^\\s*|\\s{2,}|\\s*$', value='', regex=True, inplace=True)\n",
    "attacks['Species'].fillna('Unknown', inplace=True)"
   ]
  },
  {
   "cell_type": "code",
   "execution_count": 55,
   "metadata": {
    "slideshow": {
     "slide_type": "fragment"
    }
   },
   "outputs": [],
   "source": [
    "clean_species = attacks['Species'].str.findall('((?:\\w{3,} )?[s|S]hark)').str.join('').str.title()"
   ]
  },
  {
   "cell_type": "code",
   "execution_count": 56,
   "metadata": {
    "slideshow": {
     "slide_type": "skip"
    }
   },
   "outputs": [
    {
     "data": {
      "text/plain": [
       "13"
      ]
     },
     "execution_count": 56,
     "metadata": {},
     "output_type": "execute_result"
    }
   ],
   "source": [
    "attacks.columns.get_loc('Species')"
   ]
  },
  {
   "cell_type": "code",
   "execution_count": 57,
   "metadata": {
    "slideshow": {
     "slide_type": "fragment"
    }
   },
   "outputs": [],
   "source": [
    "# Creo una nueva columna con el formato correcto, elimino la antigua columna 'Species' y renombro la nueva\n",
    "\n",
    "attacks.insert(loc=14, column='Clean Species', value=clean_species)\n",
    "attacks.drop(axis=1, columns=['Species'], inplace=True)\n",
    "attacks.rename(columns={'Clean Species': 'Species'}, inplace=True)"
   ]
  },
  {
   "cell_type": "code",
   "execution_count": 58,
   "metadata": {
    "slideshow": {
     "slide_type": "fragment"
    }
   },
   "outputs": [],
   "source": [
    "attacks['Species'].fillna('Unknown', inplace=True)"
   ]
  },
  {
   "cell_type": "code",
   "execution_count": 59,
   "metadata": {
    "slideshow": {
     "slide_type": "skip"
    }
   },
   "outputs": [
    {
     "data": {
      "text/plain": [
       "                                                 2970\n",
       "Shark                                            1219\n",
       "White Shark                                       615\n",
       "Tiger Shark                                       252\n",
       "Bull Shark                                        160\n",
       "                                                 ... \n",
       "Whiptail Sharkthresher Shark                        1\n",
       "Whitetip Sharkblue Sharktiger Sharkbull Shark       1\n",
       "Sharktiger Shark                                    1\n",
       "Metre Shark                                         1\n",
       "White Sharkbelieved Shark                           1\n",
       "Name: Species, Length: 140, dtype: int64"
      ]
     },
     "execution_count": 59,
     "metadata": {},
     "output_type": "execute_result"
    }
   ],
   "source": [
    "attacks['Species'].value_counts()"
   ]
  },
  {
   "cell_type": "code",
   "execution_count": 60,
   "metadata": {
    "slideshow": {
     "slide_type": "skip"
    }
   },
   "outputs": [
    {
     "data": {
      "text/plain": [
       "0"
      ]
     },
     "execution_count": 60,
     "metadata": {},
     "output_type": "execute_result"
    }
   ],
   "source": [
    "attacks['Species'].isnull().sum()"
   ]
  },
  {
   "cell_type": "markdown",
   "metadata": {
    "slideshow": {
     "slide_type": "subslide"
    }
   },
   "source": [
    "#### 'Name'\n",
    "\n",
    "- A pesar de no ser una información relevante para el análisis, esta columna nos sirve para rellenar aquellas filas que no tienen un sexo asignado en la columna 'Sex'\n",
    "- Cuando tengo la información, elimino la columna"
   ]
  },
  {
   "cell_type": "code",
   "execution_count": 61,
   "metadata": {
    "slideshow": {
     "slide_type": "skip"
    }
   },
   "outputs": [
    {
     "name": "stderr",
     "output_type": "stream",
     "text": [
      "<ipython-input-61-9a98b7724495>:1: UserWarning: Boolean Series key will be reindexed to match DataFrame index.\n",
      "  attacks[attacks['Sex'].isna()][attacks['Name'].isin(['male','female'])].head(30)\n"
     ]
    },
    {
     "data": {
      "text/html": [
       "<div>\n",
       "<style scoped>\n",
       "    .dataframe tbody tr th:only-of-type {\n",
       "        vertical-align: middle;\n",
       "    }\n",
       "\n",
       "    .dataframe tbody tr th {\n",
       "        vertical-align: top;\n",
       "    }\n",
       "\n",
       "    .dataframe thead th {\n",
       "        text-align: right;\n",
       "    }\n",
       "</style>\n",
       "<table border=\"1\" class=\"dataframe\">\n",
       "  <thead>\n",
       "    <tr style=\"text-align: right;\">\n",
       "      <th></th>\n",
       "      <th>Date</th>\n",
       "      <th>Year</th>\n",
       "      <th>Type</th>\n",
       "      <th>Country</th>\n",
       "      <th>Area</th>\n",
       "      <th>Location</th>\n",
       "      <th>Activity</th>\n",
       "      <th>Name</th>\n",
       "      <th>Sex</th>\n",
       "      <th>Age</th>\n",
       "      <th>Injury</th>\n",
       "      <th>Fatal (Y/N)</th>\n",
       "      <th>Time</th>\n",
       "      <th>Species</th>\n",
       "      <th>Investigator or Source</th>\n",
       "      <th>pdf</th>\n",
       "      <th>href formula</th>\n",
       "      <th>href</th>\n",
       "      <th>Case Number.1</th>\n",
       "      <th>Case Number.2</th>\n",
       "      <th>original order</th>\n",
       "      <th>Unnamed: 22</th>\n",
       "      <th>Unnamed: 23</th>\n",
       "    </tr>\n",
       "  </thead>\n",
       "  <tbody>\n",
       "    <tr>\n",
       "      <th>2225</th>\n",
       "      <td>1997-09-08</td>\n",
       "      <td>1997</td>\n",
       "      <td>Unprovoked</td>\n",
       "      <td>USA</td>\n",
       "      <td>Florida</td>\n",
       "      <td>New Smyrna Beach, Volusia County</td>\n",
       "      <td>Surfing</td>\n",
       "      <td>male</td>\n",
       "      <td>NaN</td>\n",
       "      <td>17</td>\n",
       "      <td>2 small lacerations to bottom of foot</td>\n",
       "      <td>N</td>\n",
       "      <td>Evening</td>\n",
       "      <td>Blacktip Shark</td>\n",
       "      <td>Daytona News-Journal, 9/9/1997</td>\n",
       "      <td>1997.09.08-NSB.pdf</td>\n",
       "      <td>http://sharkattackfile.net/spreadsheets/pdf_di...</td>\n",
       "      <td>http://sharkattackfile.net/spreadsheets/pdf_di...</td>\n",
       "      <td>1997.09.08</td>\n",
       "      <td>1997.09.08</td>\n",
       "      <td>4078.0</td>\n",
       "      <td>NaN</td>\n",
       "      <td>NaN</td>\n",
       "    </tr>\n",
       "    <tr>\n",
       "      <th>3049</th>\n",
       "      <td>1980-12-26</td>\n",
       "      <td>1980</td>\n",
       "      <td>Invalid</td>\n",
       "      <td>Africa</td>\n",
       "      <td>Eastern Cape Province</td>\n",
       "      <td>Port Elizabeth</td>\n",
       "      <td>Unknown</td>\n",
       "      <td>male</td>\n",
       "      <td>NaN</td>\n",
       "      <td>NaN</td>\n",
       "      <td>Probable drowning &amp; scavenging</td>\n",
       "      <td>NaN</td>\n",
       "      <td>NaN</td>\n",
       "      <td>Shark</td>\n",
       "      <td>Eastern Province Herald, 12/29/1980</td>\n",
       "      <td>1980.12.26-scavenging.pdf</td>\n",
       "      <td>http://sharkattackfile.net/spreadsheets/pdf_di...</td>\n",
       "      <td>http://sharkattackfile.net/spreadsheets/pdf_di...</td>\n",
       "      <td>1980.12.26</td>\n",
       "      <td>1980.12.26</td>\n",
       "      <td>3254.0</td>\n",
       "      <td>NaN</td>\n",
       "      <td>NaN</td>\n",
       "    </tr>\n",
       "    <tr>\n",
       "      <th>3452</th>\n",
       "      <td>1968-11-04</td>\n",
       "      <td>1968</td>\n",
       "      <td>Sea Disaster</td>\n",
       "      <td>Papua New Guinea</td>\n",
       "      <td>Madang Province</td>\n",
       "      <td>Unknown</td>\n",
       "      <td>Unknown</td>\n",
       "      <td>male</td>\n",
       "      <td>NaN</td>\n",
       "      <td>NaN</td>\n",
       "      <td>Remains recovered days later from shark</td>\n",
       "      <td>NaN</td>\n",
       "      <td>NaN</td>\n",
       "      <td>Shark</td>\n",
       "      <td>The Sydney Morning Herald, 11/9/1968</td>\n",
       "      <td>1968.11.04-StormKing.pdf</td>\n",
       "      <td>http://sharkattackfile.net/spreadsheets/pdf_di...</td>\n",
       "      <td>http://sharkattackfile.net/spreadsheets/pdf_di...</td>\n",
       "      <td>1968.11.04</td>\n",
       "      <td>1968.11.04</td>\n",
       "      <td>2851.0</td>\n",
       "      <td>NaN</td>\n",
       "      <td>NaN</td>\n",
       "    </tr>\n",
       "    <tr>\n",
       "      <th>4338</th>\n",
       "      <td>1954-07-01</td>\n",
       "      <td>1954</td>\n",
       "      <td>Invalid</td>\n",
       "      <td>Croatia</td>\n",
       "      <td>Unknown</td>\n",
       "      <td>Pula</td>\n",
       "      <td>Unknown</td>\n",
       "      <td>male</td>\n",
       "      <td>NaN</td>\n",
       "      <td>NaN</td>\n",
       "      <td>Human remains found in shark</td>\n",
       "      <td>NaN</td>\n",
       "      <td>NaN</td>\n",
       "      <td>Shark</td>\n",
       "      <td>C. Moore, GSAF</td>\n",
       "      <td>1954.07.01.R-Pula.pdf</td>\n",
       "      <td>http://sharkattackfile.net/spreadsheets/pdf_di...</td>\n",
       "      <td>http://sharkattackfile.net/spreadsheets/pdf_di...</td>\n",
       "      <td>1954.07.01.R</td>\n",
       "      <td>1954.07.01.R</td>\n",
       "      <td>1965.0</td>\n",
       "      <td>NaN</td>\n",
       "      <td>NaN</td>\n",
       "    </tr>\n",
       "    <tr>\n",
       "      <th>4467</th>\n",
       "      <td>1950-07-19</td>\n",
       "      <td>1950</td>\n",
       "      <td>Provoked</td>\n",
       "      <td>Italy</td>\n",
       "      <td>Savona</td>\n",
       "      <td>Albenga</td>\n",
       "      <td>Fishing</td>\n",
       "      <td>male</td>\n",
       "      <td>NaN</td>\n",
       "      <td>NaN</td>\n",
       "      <td>Harpooned shark bit his forehead PROVOKED INCI...</td>\n",
       "      <td>N</td>\n",
       "      <td>NaN</td>\n",
       "      <td></td>\n",
       "      <td>C. Moore, GSAF</td>\n",
       "      <td>1950.07.19-Albenga.pdf</td>\n",
       "      <td>http://sharkattackfile.net/spreadsheets/pdf_di...</td>\n",
       "      <td>http://sharkattackfile.net/spreadsheets/pdf_di...</td>\n",
       "      <td>1950.07.19</td>\n",
       "      <td>1950.07.19</td>\n",
       "      <td>1836.0</td>\n",
       "      <td>NaN</td>\n",
       "      <td>NaN</td>\n",
       "    </tr>\n",
       "    <tr>\n",
       "      <th>6062</th>\n",
       "      <td>1842-07-06</td>\n",
       "      <td>1842</td>\n",
       "      <td>Provoked</td>\n",
       "      <td>USA</td>\n",
       "      <td>New Jersey</td>\n",
       "      <td>Absecon, Atlantic County</td>\n",
       "      <td>Unknown</td>\n",
       "      <td>male</td>\n",
       "      <td>NaN</td>\n",
       "      <td>NaN</td>\n",
       "      <td>Lacerations to leg  PROVOKED INCIDENT</td>\n",
       "      <td>N</td>\n",
       "      <td>NaN</td>\n",
       "      <td></td>\n",
       "      <td>New York Evening Post, 7/11/1842</td>\n",
       "      <td>1842.07.06-Absecon.pdf</td>\n",
       "      <td>http://sharkattackfile.net/spreadsheets/pdf_di...</td>\n",
       "      <td>http://sharkattackfile.net/spreadsheets/pdf_di...</td>\n",
       "      <td>1842.07.06</td>\n",
       "      <td>1842.07.06</td>\n",
       "      <td>241.0</td>\n",
       "      <td>NaN</td>\n",
       "      <td>NaN</td>\n",
       "    </tr>\n",
       "    <tr>\n",
       "      <th>6108</th>\n",
       "      <td>1823-12-30</td>\n",
       "      <td>1823</td>\n",
       "      <td>Invalid</td>\n",
       "      <td>Jamaica</td>\n",
       "      <td>Unknown</td>\n",
       "      <td>Unknown</td>\n",
       "      <td>Unknown</td>\n",
       "      <td>male</td>\n",
       "      <td>NaN</td>\n",
       "      <td>NaN</td>\n",
       "      <td>Human remains found in shark</td>\n",
       "      <td>NaN</td>\n",
       "      <td>NaN</td>\n",
       "      <td>Shark</td>\n",
       "      <td>NaN</td>\n",
       "      <td>1823.12.30.R-Jamaica.pdf</td>\n",
       "      <td>http://sharkattackfile.net/spreadsheets/pdf_di...</td>\n",
       "      <td>http://sharkattackfile.net/spreadsheets/pdf_di...</td>\n",
       "      <td>1823.12.30.R</td>\n",
       "      <td>1823.12.30.R</td>\n",
       "      <td>195.0</td>\n",
       "      <td>NaN</td>\n",
       "      <td>NaN</td>\n",
       "    </tr>\n",
       "  </tbody>\n",
       "</table>\n",
       "</div>"
      ],
      "text/plain": [
       "            Date  Year          Type           Country                   Area  \\\n",
       "2225  1997-09-08  1997    Unprovoked               USA                Florida   \n",
       "3049  1980-12-26  1980       Invalid            Africa  Eastern Cape Province   \n",
       "3452  1968-11-04  1968  Sea Disaster  Papua New Guinea        Madang Province   \n",
       "4338  1954-07-01  1954       Invalid           Croatia                Unknown   \n",
       "4467  1950-07-19  1950      Provoked             Italy                 Savona   \n",
       "6062  1842-07-06  1842      Provoked               USA             New Jersey   \n",
       "6108  1823-12-30  1823       Invalid           Jamaica                Unknown   \n",
       "\n",
       "                              Location Activity  Name  Sex  Age  \\\n",
       "2225  New Smyrna Beach, Volusia County  Surfing  male  NaN   17   \n",
       "3049                    Port Elizabeth  Unknown  male  NaN  NaN   \n",
       "3452                           Unknown  Unknown  male  NaN  NaN   \n",
       "4338                              Pula  Unknown  male  NaN  NaN   \n",
       "4467                           Albenga  Fishing  male  NaN  NaN   \n",
       "6062          Absecon, Atlantic County  Unknown  male  NaN  NaN   \n",
       "6108                           Unknown  Unknown  male  NaN  NaN   \n",
       "\n",
       "                                                 Injury Fatal (Y/N)     Time  \\\n",
       "2225              2 small lacerations to bottom of foot           N  Evening   \n",
       "3049                     Probable drowning & scavenging         NaN      NaN   \n",
       "3452            Remains recovered days later from shark         NaN      NaN   \n",
       "4338                       Human remains found in shark         NaN      NaN   \n",
       "4467  Harpooned shark bit his forehead PROVOKED INCI...           N      NaN   \n",
       "6062              Lacerations to leg  PROVOKED INCIDENT           N      NaN   \n",
       "6108                       Human remains found in shark         NaN      NaN   \n",
       "\n",
       "             Species                Investigator or Source  \\\n",
       "2225  Blacktip Shark        Daytona News-Journal, 9/9/1997   \n",
       "3049           Shark   Eastern Province Herald, 12/29/1980   \n",
       "3452           Shark  The Sydney Morning Herald, 11/9/1968   \n",
       "4338           Shark                        C. Moore, GSAF   \n",
       "4467                                        C. Moore, GSAF   \n",
       "6062                      New York Evening Post, 7/11/1842   \n",
       "6108           Shark                                   NaN   \n",
       "\n",
       "                            pdf  \\\n",
       "2225         1997.09.08-NSB.pdf   \n",
       "3049  1980.12.26-scavenging.pdf   \n",
       "3452   1968.11.04-StormKing.pdf   \n",
       "4338      1954.07.01.R-Pula.pdf   \n",
       "4467     1950.07.19-Albenga.pdf   \n",
       "6062     1842.07.06-Absecon.pdf   \n",
       "6108   1823.12.30.R-Jamaica.pdf   \n",
       "\n",
       "                                           href formula  \\\n",
       "2225  http://sharkattackfile.net/spreadsheets/pdf_di...   \n",
       "3049  http://sharkattackfile.net/spreadsheets/pdf_di...   \n",
       "3452  http://sharkattackfile.net/spreadsheets/pdf_di...   \n",
       "4338  http://sharkattackfile.net/spreadsheets/pdf_di...   \n",
       "4467  http://sharkattackfile.net/spreadsheets/pdf_di...   \n",
       "6062  http://sharkattackfile.net/spreadsheets/pdf_di...   \n",
       "6108  http://sharkattackfile.net/spreadsheets/pdf_di...   \n",
       "\n",
       "                                                   href Case Number.1  \\\n",
       "2225  http://sharkattackfile.net/spreadsheets/pdf_di...    1997.09.08   \n",
       "3049  http://sharkattackfile.net/spreadsheets/pdf_di...    1980.12.26   \n",
       "3452  http://sharkattackfile.net/spreadsheets/pdf_di...    1968.11.04   \n",
       "4338  http://sharkattackfile.net/spreadsheets/pdf_di...  1954.07.01.R   \n",
       "4467  http://sharkattackfile.net/spreadsheets/pdf_di...    1950.07.19   \n",
       "6062  http://sharkattackfile.net/spreadsheets/pdf_di...    1842.07.06   \n",
       "6108  http://sharkattackfile.net/spreadsheets/pdf_di...  1823.12.30.R   \n",
       "\n",
       "     Case Number.2  original order Unnamed: 22 Unnamed: 23  \n",
       "2225    1997.09.08          4078.0         NaN         NaN  \n",
       "3049    1980.12.26          3254.0         NaN         NaN  \n",
       "3452    1968.11.04          2851.0         NaN         NaN  \n",
       "4338  1954.07.01.R          1965.0         NaN         NaN  \n",
       "4467    1950.07.19          1836.0         NaN         NaN  \n",
       "6062    1842.07.06           241.0         NaN         NaN  \n",
       "6108  1823.12.30.R           195.0         NaN         NaN  "
      ]
     },
     "execution_count": 61,
     "metadata": {},
     "output_type": "execute_result"
    }
   ],
   "source": [
    "attacks[attacks['Sex'].isna()][attacks['Name'].isin(['male','female'])].head(30)"
   ]
  },
  {
   "cell_type": "code",
   "execution_count": 62,
   "metadata": {
    "slideshow": {
     "slide_type": "skip"
    }
   },
   "outputs": [
    {
     "name": "stderr",
     "output_type": "stream",
     "text": [
      "<ipython-input-62-a90c40b46ede>:1: UserWarning: Boolean Series key will be reindexed to match DataFrame index.\n",
      "  attacks[attacks['Sex'].isna()][attacks['Name'].isin(['male','female'])].index\n"
     ]
    },
    {
     "data": {
      "text/plain": [
       "Int64Index([2225, 3049, 3452, 4338, 4467, 6062, 6108], dtype='int64')"
      ]
     },
     "execution_count": 62,
     "metadata": {},
     "output_type": "execute_result"
    }
   ],
   "source": [
    "attacks[attacks['Sex'].isna()][attacks['Name'].isin(['male','female'])].index"
   ]
  },
  {
   "cell_type": "code",
   "execution_count": 63,
   "metadata": {
    "slideshow": {
     "slide_type": "skip"
    }
   },
   "outputs": [
    {
     "name": "stderr",
     "output_type": "stream",
     "text": [
      "<ipython-input-63-c480fef38f5f>:1: UserWarning: Boolean Series key will be reindexed to match DataFrame index.\n",
      "  attacks.loc[attacks[attacks['Sex'].isna()][attacks['Name'].isin(['male','female'])].index,'Sex'] = attacks[attacks['Sex'].isna()][attacks['Name'].isin(['male','female'])]\n"
     ]
    }
   ],
   "source": [
    "attacks.loc[attacks[attacks['Sex'].isna()][attacks['Name'].isin(['male','female'])].index,'Sex'] = attacks[attacks['Sex'].isna()][attacks['Name'].isin(['male','female'])]"
   ]
  },
  {
   "cell_type": "code",
   "execution_count": 64,
   "metadata": {
    "slideshow": {
     "slide_type": "skip"
    }
   },
   "outputs": [],
   "source": [
    "attacks.drop(axis=1, columns=['Name'], inplace=True)"
   ]
  },
  {
   "cell_type": "markdown",
   "metadata": {
    "slideshow": {
     "slide_type": "subslide"
    }
   },
   "source": [
    "#### 'Sex'"
   ]
  },
  {
   "cell_type": "code",
   "execution_count": 65,
   "metadata": {
    "slideshow": {
     "slide_type": "fragment"
    }
   },
   "outputs": [
    {
     "data": {
      "text/plain": [
       "M      4977\n",
       "F       624\n",
       "N         2\n",
       "M         2\n",
       "lli       1\n",
       ".         1\n",
       "Name: Sex, dtype: int64"
      ]
     },
     "execution_count": 65,
     "metadata": {},
     "output_type": "execute_result"
    }
   ],
   "source": [
    "attacks['Sex'].value_counts()"
   ]
  },
  {
   "cell_type": "code",
   "execution_count": 66,
   "metadata": {
    "slideshow": {
     "slide_type": "fragment"
    }
   },
   "outputs": [],
   "source": [
    "attacks['Sex'].replace(to_replace='^\\s*|\\s*$', value='', regex=True, inplace=True)\n",
    "attacks['Sex'].replace(to_replace='N', value='M', regex=True, inplace=True)\n",
    "attacks['Sex'].replace(to_replace='^\\.|lli$', value='Unknown', regex=True, inplace=True)\n",
    "attacks['Sex'].fillna('Unknown', inplace=True)"
   ]
  },
  {
   "cell_type": "markdown",
   "metadata": {
    "slideshow": {
     "slide_type": "subslide"
    }
   },
   "source": [
    "#### 'Injury'\n",
    "\n",
    "No es relevante para el análisis. La eliminamos."
   ]
  },
  {
   "cell_type": "code",
   "execution_count": 67,
   "metadata": {
    "slideshow": {
     "slide_type": "skip"
    }
   },
   "outputs": [],
   "source": [
    "attacks.drop(axis=1, columns=['Injury'], inplace=True)"
   ]
  },
  {
   "cell_type": "markdown",
   "metadata": {
    "slideshow": {
     "slide_type": "subslide"
    }
   },
   "source": [
    "#### 'Fatal (Y/N)'"
   ]
  },
  {
   "cell_type": "code",
   "execution_count": 68,
   "metadata": {
    "slideshow": {
     "slide_type": "fragment"
    }
   },
   "outputs": [
    {
     "data": {
      "text/plain": [
       "N          4227\n",
       "Y          1324\n",
       "UNKNOWN      64\n",
       " N            7\n",
       "M             1\n",
       "N             1\n",
       "2017          1\n",
       "y             1\n",
       "Name: Fatal (Y/N), dtype: int64"
      ]
     },
     "execution_count": 68,
     "metadata": {},
     "output_type": "execute_result"
    }
   ],
   "source": [
    "attacks['Fatal (Y/N)'].value_counts()"
   ]
  },
  {
   "cell_type": "code",
   "execution_count": 69,
   "metadata": {
    "slideshow": {
     "slide_type": "fragment"
    }
   },
   "outputs": [],
   "source": [
    "attacks['Fatal (Y/N)'] = attacks['Fatal (Y/N)'].str.upper()\n",
    "attacks['Fatal (Y/N)'].replace(to_replace='^\\s*|\\s{2,}|\\s*$', value='', regex=True, inplace=True)\n",
    "attacks['Fatal (Y/N)'].replace(to_replace='^M$', value='N', regex=True, inplace=True)\n",
    "attacks['Fatal (Y/N)'].replace(to_replace='^\\d+$', value='Unknown', regex=True, inplace=True)\n",
    "attacks['Fatal (Y/N)'].fillna('Unknown', inplace=True)\n",
    "attacks['Fatal (Y/N)'] = attacks['Fatal (Y/N)'].str.title()"
   ]
  },
  {
   "cell_type": "markdown",
   "metadata": {
    "slideshow": {
     "slide_type": "slide"
    }
   },
   "source": [
    "### Paso 4 - Eliminar datos innecesarios\n",
    "\n",
    "Tras hacer la limpieza, decido:\n",
    "- Eliminar las columnas a las que les falta el 60% de los datos\n",
    "- Eliminar las últimas 7 columnas"
   ]
  },
  {
   "cell_type": "markdown",
   "metadata": {
    "slideshow": {
     "slide_type": "skip"
    }
   },
   "source": [
    "print(attacks.columns)\n",
    "print(len(attacks.columns))"
   ]
  },
  {
   "cell_type": "code",
   "execution_count": 70,
   "metadata": {
    "slideshow": {
     "slide_type": "fragment"
    }
   },
   "outputs": [],
   "source": [
    "attacks.dropna(axis=1, thresh=attacks.shape[0]*0.6, inplace=True)\n",
    "attacks.drop(attacks.columns[-7:], axis=1, inplace=True)"
   ]
  },
  {
   "cell_type": "code",
   "execution_count": 71,
   "metadata": {
    "slideshow": {
     "slide_type": "fragment"
    }
   },
   "outputs": [
    {
     "name": "stdout",
     "output_type": "stream",
     "text": [
      "Index(['Date', 'Year', 'Type', 'Country', 'Area', 'Location', 'Activity',\n",
      "       'Sex', 'Fatal (Y/N)', 'Species'],\n",
      "      dtype='object')\n",
      "10\n"
     ]
    }
   ],
   "source": [
    "print(attacks.columns)\n",
    "print(len(attacks.columns))"
   ]
  },
  {
   "cell_type": "markdown",
   "metadata": {
    "slideshow": {
     "slide_type": "slide"
    }
   },
   "source": [
    "### Paso 5 - Index\n",
    "\n",
    "Ya como último paso, decido setear el país como index para poder basar mi análisis en esta información"
   ]
  },
  {
   "cell_type": "code",
   "execution_count": 72,
   "metadata": {
    "scrolled": true,
    "slideshow": {
     "slide_type": "fragment"
    }
   },
   "outputs": [
    {
     "data": {
      "text/html": [
       "<div>\n",
       "<style scoped>\n",
       "    .dataframe tbody tr th:only-of-type {\n",
       "        vertical-align: middle;\n",
       "    }\n",
       "\n",
       "    .dataframe tbody tr th {\n",
       "        vertical-align: top;\n",
       "    }\n",
       "\n",
       "    .dataframe thead th {\n",
       "        text-align: right;\n",
       "    }\n",
       "</style>\n",
       "<table border=\"1\" class=\"dataframe\">\n",
       "  <thead>\n",
       "    <tr style=\"text-align: right;\">\n",
       "      <th></th>\n",
       "      <th>Date</th>\n",
       "      <th>Year</th>\n",
       "      <th>Type</th>\n",
       "      <th>Area</th>\n",
       "      <th>Location</th>\n",
       "      <th>Activity</th>\n",
       "      <th>Sex</th>\n",
       "      <th>Fatal (Y/N)</th>\n",
       "      <th>Species</th>\n",
       "    </tr>\n",
       "    <tr>\n",
       "      <th>Country</th>\n",
       "      <th></th>\n",
       "      <th></th>\n",
       "      <th></th>\n",
       "      <th></th>\n",
       "      <th></th>\n",
       "      <th></th>\n",
       "      <th></th>\n",
       "      <th></th>\n",
       "      <th></th>\n",
       "    </tr>\n",
       "  </thead>\n",
       "  <tbody>\n",
       "    <tr>\n",
       "      <th>USA</th>\n",
       "      <td>2018-06-25</td>\n",
       "      <td>2018</td>\n",
       "      <td>Boating</td>\n",
       "      <td>California</td>\n",
       "      <td>Oceanside, San Diego County</td>\n",
       "      <td>Unknown</td>\n",
       "      <td>F</td>\n",
       "      <td>N</td>\n",
       "      <td>White Shark</td>\n",
       "    </tr>\n",
       "    <tr>\n",
       "      <th>USA</th>\n",
       "      <td>2018-06-18</td>\n",
       "      <td>2018</td>\n",
       "      <td>Unprovoked</td>\n",
       "      <td>Georgia</td>\n",
       "      <td>St. Simon Island, Glynn County</td>\n",
       "      <td>Standing</td>\n",
       "      <td>F</td>\n",
       "      <td>N</td>\n",
       "      <td></td>\n",
       "    </tr>\n",
       "    <tr>\n",
       "      <th>USA</th>\n",
       "      <td>2018-06-09</td>\n",
       "      <td>2018</td>\n",
       "      <td>Invalid</td>\n",
       "      <td>Hawaii</td>\n",
       "      <td>Habush, Oahu</td>\n",
       "      <td>Surfing</td>\n",
       "      <td>M</td>\n",
       "      <td>N</td>\n",
       "      <td></td>\n",
       "    </tr>\n",
       "    <tr>\n",
       "      <th>Australia</th>\n",
       "      <td>2018-06-08</td>\n",
       "      <td>2018</td>\n",
       "      <td>Unprovoked</td>\n",
       "      <td>New South Wales</td>\n",
       "      <td>Arrawarra Headland</td>\n",
       "      <td>Surfing</td>\n",
       "      <td>M</td>\n",
       "      <td>N</td>\n",
       "      <td>Shark</td>\n",
       "    </tr>\n",
       "    <tr>\n",
       "      <th>Mexico</th>\n",
       "      <td>2018-06-04</td>\n",
       "      <td>2018</td>\n",
       "      <td>Provoked</td>\n",
       "      <td>Colima</td>\n",
       "      <td>La Ticla</td>\n",
       "      <td>Free Diving</td>\n",
       "      <td>M</td>\n",
       "      <td>N</td>\n",
       "      <td>Tiger Shark</td>\n",
       "    </tr>\n",
       "    <tr>\n",
       "      <th>Australia</th>\n",
       "      <td>2018-06-03</td>\n",
       "      <td>2018</td>\n",
       "      <td>Unprovoked</td>\n",
       "      <td>New South Wales</td>\n",
       "      <td>Flat Rock, Ballina</td>\n",
       "      <td>Unknown</td>\n",
       "      <td>M</td>\n",
       "      <td>N</td>\n",
       "      <td></td>\n",
       "    </tr>\n",
       "    <tr>\n",
       "      <th>Brazil</th>\n",
       "      <td>2018-06-03</td>\n",
       "      <td>2018</td>\n",
       "      <td>Unprovoked</td>\n",
       "      <td>Pernambuco</td>\n",
       "      <td>Piedade Beach, Recife</td>\n",
       "      <td>Swimming</td>\n",
       "      <td>M</td>\n",
       "      <td>Y</td>\n",
       "      <td>Tiger Shark</td>\n",
       "    </tr>\n",
       "    <tr>\n",
       "      <th>USA</th>\n",
       "      <td>2018-05-27</td>\n",
       "      <td>2018</td>\n",
       "      <td>Unprovoked</td>\n",
       "      <td>Florida</td>\n",
       "      <td>Lighhouse Point Park, Ponce Inlet, Volusia County</td>\n",
       "      <td>Fishing</td>\n",
       "      <td>M</td>\n",
       "      <td>N</td>\n",
       "      <td>Lemon Shark</td>\n",
       "    </tr>\n",
       "    <tr>\n",
       "      <th>USA</th>\n",
       "      <td>2018-05-26</td>\n",
       "      <td>2018</td>\n",
       "      <td>Unprovoked</td>\n",
       "      <td>Florida</td>\n",
       "      <td>Cocoa Beach, BrevardCounty</td>\n",
       "      <td>Unknown</td>\n",
       "      <td>M</td>\n",
       "      <td>N</td>\n",
       "      <td>Bull Shark</td>\n",
       "    </tr>\n",
       "    <tr>\n",
       "      <th>USA</th>\n",
       "      <td>2018-05-26</td>\n",
       "      <td>2018</td>\n",
       "      <td>Unprovoked</td>\n",
       "      <td>Florida</td>\n",
       "      <td>Daytona Beach, Volusia County</td>\n",
       "      <td>Standing</td>\n",
       "      <td>M</td>\n",
       "      <td>N</td>\n",
       "      <td></td>\n",
       "    </tr>\n",
       "    <tr>\n",
       "      <th>Australia</th>\n",
       "      <td>2018-05-24</td>\n",
       "      <td>2018</td>\n",
       "      <td>Provoked</td>\n",
       "      <td>Queensland</td>\n",
       "      <td>Cairns Aquarium</td>\n",
       "      <td>Unknown</td>\n",
       "      <td>M</td>\n",
       "      <td>N</td>\n",
       "      <td>Reef Shark</td>\n",
       "    </tr>\n",
       "  </tbody>\n",
       "</table>\n",
       "</div>"
      ],
      "text/plain": [
       "                 Date  Year        Type             Area  \\\n",
       "Country                                                    \n",
       "USA        2018-06-25  2018     Boating       California   \n",
       "USA        2018-06-18  2018  Unprovoked          Georgia   \n",
       "USA        2018-06-09  2018     Invalid           Hawaii   \n",
       "Australia  2018-06-08  2018  Unprovoked  New South Wales   \n",
       "Mexico     2018-06-04  2018    Provoked           Colima   \n",
       "Australia  2018-06-03  2018  Unprovoked  New South Wales   \n",
       "Brazil     2018-06-03  2018  Unprovoked       Pernambuco   \n",
       "USA        2018-05-27  2018  Unprovoked          Florida   \n",
       "USA        2018-05-26  2018  Unprovoked          Florida   \n",
       "USA        2018-05-26  2018  Unprovoked          Florida   \n",
       "Australia  2018-05-24  2018    Provoked       Queensland   \n",
       "\n",
       "                                                    Location     Activity Sex  \\\n",
       "Country                                                                         \n",
       "USA                              Oceanside, San Diego County      Unknown   F   \n",
       "USA                           St. Simon Island, Glynn County     Standing   F   \n",
       "USA                                             Habush, Oahu      Surfing   M   \n",
       "Australia                                 Arrawarra Headland      Surfing   M   \n",
       "Mexico                                              La Ticla  Free Diving   M   \n",
       "Australia                                 Flat Rock, Ballina      Unknown   M   \n",
       "Brazil                                 Piedade Beach, Recife     Swimming   M   \n",
       "USA        Lighhouse Point Park, Ponce Inlet, Volusia County      Fishing   M   \n",
       "USA                               Cocoa Beach, BrevardCounty      Unknown   M   \n",
       "USA                            Daytona Beach, Volusia County     Standing   M   \n",
       "Australia                                    Cairns Aquarium      Unknown   M   \n",
       "\n",
       "          Fatal (Y/N)      Species  \n",
       "Country                             \n",
       "USA                 N  White Shark  \n",
       "USA                 N               \n",
       "USA                 N               \n",
       "Australia           N        Shark  \n",
       "Mexico              N  Tiger Shark  \n",
       "Australia           N               \n",
       "Brazil              Y  Tiger Shark  \n",
       "USA                 N  Lemon Shark  \n",
       "USA                 N   Bull Shark  \n",
       "USA                 N               \n",
       "Australia           N   Reef Shark  "
      ]
     },
     "execution_count": 72,
     "metadata": {},
     "output_type": "execute_result"
    }
   ],
   "source": [
    "attacks.set_index('Country', inplace=True)\n",
    "attacks.head(11)"
   ]
  },
  {
   "cell_type": "code",
   "execution_count": 73,
   "metadata": {
    "slideshow": {
     "slide_type": "skip"
    }
   },
   "outputs": [
    {
     "data": {
      "text/plain": [
       "Date           0\n",
       "Year           0\n",
       "Type           0\n",
       "Area           0\n",
       "Location       0\n",
       "Activity       0\n",
       "Sex            0\n",
       "Fatal (Y/N)    0\n",
       "Species        0\n",
       "dtype: int64"
      ]
     },
     "execution_count": 73,
     "metadata": {},
     "output_type": "execute_result"
    }
   ],
   "source": [
    "attacks.isnull().sum()"
   ]
  },
  {
   "cell_type": "markdown",
   "metadata": {
    "slideshow": {
     "slide_type": "subslide"
    }
   },
   "source": [
    "### Paso 6 - Export"
   ]
  },
  {
   "cell_type": "code",
   "execution_count": 74,
   "metadata": {
    "slideshow": {
     "slide_type": "fragment"
    }
   },
   "outputs": [],
   "source": [
    "attacks.to_csv('attacks-clean.csv', sep=',', index=False)"
   ]
  },
  {
   "cell_type": "markdown",
   "metadata": {
    "slideshow": {
     "slide_type": "slide"
    }
   },
   "source": [
    "## Analysis"
   ]
  },
  {
   "cell_type": "code",
   "execution_count": 75,
   "metadata": {
    "slideshow": {
     "slide_type": "skip"
    }
   },
   "outputs": [],
   "source": [
    "attacks.reset_index(inplace=True)\n",
    "plt.rcParams['figure.figsize'] = (20,8)\n",
    "%matplotlib inline"
   ]
  },
  {
   "cell_type": "markdown",
   "metadata": {
    "slideshow": {
     "slide_type": "subslide"
    }
   },
   "source": [
    "### Top 5 de países con más ataques"
   ]
  },
  {
   "cell_type": "code",
   "execution_count": 76,
   "metadata": {
    "slideshow": {
     "slide_type": "fragment"
    }
   },
   "outputs": [
    {
     "data": {
      "text/plain": [
       "<AxesSubplot:>"
      ]
     },
     "execution_count": 76,
     "metadata": {},
     "output_type": "execute_result"
    },
    {
     "data": {
      "image/png": "[encoded data removed]",
      "text/plain": [
       "<Figure size 432x288 with 1 Axes>"
      ]
     },
     "metadata": {
      "needs_background": "light"
     },
     "output_type": "display_data"
    }
   ],
   "source": [
    "top5_country = attacks['Country'].value_counts().sort_values(ascending=False).head()\n",
    "top5_country.plot(kind='barh', color='#DA627D')"
   ]
  },
  {
   "cell_type": "markdown",
   "metadata": {
    "slideshow": {
     "slide_type": "subslide"
    }
   },
   "source": [
    "### Top 5 de actividades más peligrosas"
   ]
  },
  {
   "cell_type": "code",
   "execution_count": 77,
   "metadata": {
    "slideshow": {
     "slide_type": "fragment"
    }
   },
   "outputs": [
    {
     "data": {
      "text/plain": [
       "<AxesSubplot:>"
      ]
     },
     "execution_count": 77,
     "metadata": {},
     "output_type": "execute_result"
    },
    {
     "data": {
      "image/png": "[encoded data removed]",
      "text/plain": [
       "<Figure size 432x288 with 1 Axes>"
      ]
     },
     "metadata": {
      "needs_background": "light"
     },
     "output_type": "display_data"
    }
   ],
   "source": [
    "top5_activity = attacks.Activity[attacks['Activity'] != 'Unknown'].value_counts().sort_values(ascending=False).head()\n",
    "top5_activity.plot(kind='barh', color='#DA627D')"
   ]
  },
  {
   "cell_type": "markdown",
   "metadata": {
    "slideshow": {
     "slide_type": "subslide"
    }
   },
   "source": [
    "### Sexo de las víctimas"
   ]
  },
  {
   "cell_type": "code",
   "execution_count": 78,
   "metadata": {
    "slideshow": {
     "slide_type": "fragment"
    }
   },
   "outputs": [
    {
     "data": {
      "text/plain": [
       "<AxesSubplot:>"
      ]
     },
     "execution_count": 78,
     "metadata": {},
     "output_type": "execute_result"
    },
    {
     "data": {
      "image/png": "[encoded data removed]",
      "text/plain": [
       "<Figure size 432x288 with 1 Axes>"
      ]
     },
     "metadata": {
      "needs_background": "light"
     },
     "output_type": "display_data"
    }
   ],
   "source": [
    "attacks['Sex'].value_counts().sort_values(ascending=False).plot(kind='barh', color='#DA627D')"
   ]
  },
  {
   "cell_type": "markdown",
   "metadata": {
    "slideshow": {
     "slide_type": "subslide"
    }
   },
   "source": [
    "### Mortalidad del ataque"
   ]
  },
  {
   "cell_type": "code",
   "execution_count": 79,
   "metadata": {
    "slideshow": {
     "slide_type": "fragment"
    }
   },
   "outputs": [
    {
     "data": {
      "text/plain": [
       "<AxesSubplot:ylabel='Fatal (Y/N)'>"
      ]
     },
     "execution_count": 79,
     "metadata": {},
     "output_type": "execute_result"
    },
    {
     "data": {
      "image/png": "[encoded data removed]",
      "text/plain": [
       "<Figure size 432x288 with 1 Axes>"
      ]
     },
     "metadata": {},
     "output_type": "display_data"
    }
   ],
   "source": [
    "attacks['Fatal (Y/N)'].value_counts().sort_values(ascending=False).plot(kind='pie', colors=['#F9DBBD', '#DA627D', '#FCA17D'], autopct='%.2f')"
   ]
  },
  {
   "cell_type": "markdown",
   "metadata": {
    "slideshow": {
     "slide_type": "slide"
    }
   },
   "source": [
    "## Conclusion\n",
    "\n",
    "Basándonos en los datos recogidos desde 1700 hasta la actualidad, podemos concluir que:\n",
    "1. Estados Unidos es el país con más ataques de tiburón reportados\n",
    "2. Las personas que practican surf son las más vulnerables a sufrir un ataque de tiburón\n",
    "3. La gran mayoría de las víctimas son hombres\n",
    "4. Casi el 70% de los casos reportados no fueron mortales"
   ]
  },
  {
   "cell_type": "markdown",
   "metadata": {
    "slideshow": {
     "slide_type": "slide"
    }
   },
   "source": [
    " "
   ]
  }
 ],
 "metadata": {
  "celltoolbar": "Slideshow",
  "kernelspec": {
   "display_name": "Python 3",
   "language": "python",
   "name": "python3"
  },
  "language_info": {
   "codemirror_mode": {
    "name": "ipython",
    "version": 3
   },
   "file_extension": ".py",
   "mimetype": "text/x-python",
   "name": "python",
   "nbconvert_exporter": "python",
   "pygments_lexer": "ipython3",
   "version": "3.8.5"
  },
  "toc": {
   "base_numbering": 1,
   "nav_menu": {},
   "number_sections": true,
   "sideBar": true,
   "skip_h1_title": false,
   "title_cell": "Table of Contents",
   "title_sidebar": "Contents",
   "toc_cell": false,
   "toc_position": {
    "height": "calc(100% - 180px)",
    "left": "10px",
    "top": "150px",
    "width": "228.438px"
   },
   "toc_section_display": true,
   "toc_window_display": true
  },
  "varInspector": {
   "cols": {
    "lenName": 16,
    "lenType": 16,
    "lenVar": 40
   },
   "kernels_config": {
    "python": {
     "delete_cmd_postfix": "",
     "delete_cmd_prefix": "del ",
     "library": "var_list.py",
     "varRefreshCmd": "print(var_dic_list())"
    },
    "r": {
     "delete_cmd_postfix": ") ",
     "delete_cmd_prefix": "rm(",
     "library": "var_list.r",
     "varRefreshCmd": "cat(var_dic_list()) "
    }
   },
   "types_to_exclude": [
    "module",
    "function",
    "builtin_function_or_method",
    "instance",
    "_Feature"
   ],
   "window_display": false
  }
 },
 "nbformat": 4,
 "nbformat_minor": 2
}
